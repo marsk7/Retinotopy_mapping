{
 "cells": [
  {
   "cell_type": "markdown",
   "id": "0922d943-e9bf-424b-b900-9b0cf7e5062b",
   "metadata": {},
   "source": [
    "# Convert lh.vexpl.mgz to gifti file"
   ]
  },
  {
   "cell_type": "code",
   "execution_count": 1,
   "id": "2c96cdbc-c8d4-40a0-9862-27d361eef658",
   "metadata": {},
   "outputs": [],
   "source": [
    "import lmod\n",
    "await lmod.load('freesurfer/7.4.1')\n",
    "import os"
   ]
  },
  {
   "cell_type": "code",
   "execution_count": 2,
   "id": "ba15f930-18c1-4449-986d-8f89eacd8ad5",
   "metadata": {},
   "outputs": [],
   "source": [
    "def mris_convert(infile, lh_white, outfile):\n",
    "    status_code = os.system(f'mris_convert -c {infile} {lh_white} {outfile}')\n",
    "\n",
    "    if status_code == 0:\n",
    "        print(f\"Successfully convert!\")\n",
    "    else:\n",
    "        print(f\"Convert fail, code：{status_code}\")"
   ]
  },
  {
   "cell_type": "code",
   "execution_count": 3,
   "id": "af5997a7-ec25-4537-ad8b-2c3b11bdfd09",
   "metadata": {
    "scrolled": true
   },
   "outputs": [
    {
     "name": "stdout",
     "output_type": "stream",
     "text": [
      "Successfully convert!\n",
      "sub-wlsubj001: Successfully convert\n",
      "Successfully convert!\n",
      "sub-wlsubj006: Successfully convert\n",
      "Successfully convert!\n",
      "sub-wlsubj007: Successfully convert\n",
      "Successfully convert!\n",
      "sub-wlsubj014: Successfully convert\n",
      "Successfully convert!\n",
      "sub-wlsubj019: Successfully convert\n",
      "Successfully convert!\n",
      "sub-wlsubj023: Successfully convert\n",
      "Successfully convert!\n",
      "sub-wlsubj042: Successfully convert\n",
      "Successfully convert!\n",
      "sub-wlsubj045: Successfully convert\n",
      "Successfully convert!\n",
      "sub-wlsubj055: Successfully convert\n",
      "Successfully convert!\n",
      "sub-wlsubj056: Successfully convert\n",
      "Successfully convert!\n",
      "sub-wlsubj057: Successfully convert\n",
      "Successfully convert!\n",
      "sub-wlsubj062: Successfully convert\n",
      "Successfully convert!\n",
      "sub-wlsubj071: Successfully convert\n",
      "Successfully convert!\n",
      "sub-wlsubj076: Successfully convert\n",
      "Successfully convert!\n",
      "sub-wlsubj079: Successfully convert\n",
      "Successfully convert!\n",
      "sub-wlsubj081: Successfully convert\n",
      "Successfully convert!\n",
      "sub-wlsubj083: Successfully convert\n",
      "Successfully convert!\n",
      "sub-wlsubj084: Successfully convert\n",
      "Successfully convert!\n",
      "sub-wlsubj086: Successfully convert\n",
      "Successfully convert!\n",
      "sub-wlsubj088: Successfully convert\n",
      "Successfully convert!\n",
      "sub-wlsubj091: Successfully convert\n",
      "Successfully convert!\n",
      "sub-wlsubj094: Successfully convert\n",
      "Successfully convert!\n",
      "sub-wlsubj095: Successfully convert\n",
      "Successfully convert!\n",
      "sub-wlsubj104: Successfully convert\n",
      "Successfully convert!\n",
      "sub-wlsubj114: Successfully convert\n",
      "Successfully convert!\n",
      "sub-wlsubj115: Successfully convert\n",
      "Successfully convert!\n",
      "sub-wlsubj116: Successfully convert\n",
      "Successfully convert!\n",
      "sub-wlsubj117: Successfully convert\n",
      "Successfully convert!\n",
      "sub-wlsubj118: Successfully convert\n",
      "Successfully convert!\n",
      "sub-wlsubj120: Successfully convert\n",
      "Successfully convert!\n",
      "sub-wlsubj126: Successfully convert\n"
     ]
    }
   ],
   "source": [
    "# Convert .mgz to .gii\n",
    "folder_path = '/neurodesktop-storage/nyu_retinotopy_data/freesurfer_test/'\n",
    "\n",
    "items = os.listdir(folder_path)\n",
    "\n",
    "for item in items:\n",
    "    full_path = os.path.join(folder_path, item)\n",
    "    if os.path.isdir(full_path) and item[:-3] == 'sub-wlsubj':\n",
    "        infile = '~/neurodesktop-storage/nyu_retinotopy_data/prfanalyze-Vista/' + item + '/ses-nyu3t01/lh.vexpl.mgz'\n",
    "        lh_white = '~/neurodesktop-storage/nyu_retinotopy_data/freesurfer_test/' + item + '/surf/lh.white'\n",
    "        outfile = '~/neurodesktop-storage/nyu_retinotopy_data/nyu_converted/' + item + '/lh_native_vexpl.func.gii'\n",
    "        \n",
    "        mris_convert(infile, lh_white, outfile)\n",
    "        \n",
    "        print(item + ': Successfully convert')"
   ]
  },
  {
   "cell_type": "markdown",
   "id": "899a3be1-e7f8-4968-b1aa-0c582975373d",
   "metadata": {},
   "source": [
    "# Convert to average space"
   ]
  },
  {
   "cell_type": "code",
   "execution_count": 4,
   "id": "b3b18a5e-8ada-436b-8d13-c56ba2848d9b",
   "metadata": {},
   "outputs": [],
   "source": [
    "await lmod.load('deepretinotopy/1.0.8')\n",
    "import os"
   ]
  },
  {
   "cell_type": "code",
   "execution_count": 5,
   "id": "beb0e3a6-db55-4eb6-8bcd-f8942ea9303e",
   "metadata": {},
   "outputs": [],
   "source": [
    "# os.environ[\"subject\"] = \"sub-wlsubj001\"\n",
    "os.environ[\"hemisphere\"] = \"lh\"\n",
    "os.environ[\"hemi\"] = \"L\"\n",
    "os.environ[\"sub_path\"] = '/neurodesktop-storage/nyu_retinotopy_data/freesurfer_test'"
   ]
  },
  {
   "cell_type": "code",
   "execution_count": 6,
   "id": "2bf733e0-8f85-4796-b479-77abae0ae851",
   "metadata": {},
   "outputs": [
    {
     "name": "stdout",
     "output_type": "stream",
     "text": [
      "Convert to average space!\n",
      "sub-wlsubj001:successfully convert!\n"
     ]
    }
   ],
   "source": [
    "# %%bash\n",
    "# echo Convert to average space!\n",
    "# dir='/neurodesktop-storage/nyu_retinotopy_data/freesurfer_pial_test/sub-wlsubj001/'\n",
    "# wb_command -metric-resample \"$sub_path\"/../nyu_converted/$subject/\"$hemisphere\".lh_native_vexpl.func.gii \\\n",
    "#     $dir/surf/\"$hemisphere\".sphere.reg.surf.gii \"$sub_path\"/../templates/fs_LR-deformed_to-fsaverage.\"$hemi\".sphere.32k_fs_LR.surf.gii \\\n",
    "#     ADAP_BARY_AREA $dir/surf/fs_vexpl.\"$hemisphere\".32k_fs_LR.func.gii \\\n",
    "#     -area-surfs $dir/surf/\"$hemisphere\".pial.surf.gii $dir/surf/\"$subject\".\"$hemisphere\".pial.32k_fs_LR.surf.gii  \n",
    "# echo $subject\":successfully convert!\""
   ]
  },
  {
   "cell_type": "code",
   "execution_count": 7,
   "id": "4d3ac809-f115-4b60-aecb-569e6c134cd0",
   "metadata": {
    "scrolled": true
   },
   "outputs": [
    {
     "name": "stdout",
     "output_type": "stream",
     "text": [
      "Convert to average space!\n",
      "/neurodesktop-storage/nyu_retinotopy_data/freesurfer_test/sub-wlsubj001\n",
      "sub-wlsubj001:successfully convert!\n",
      "subj006esktop-storage/nyu_retinotopy_data/freesurfer_test/sub-wl\n",
      "sub-wlsubj006:successfully convert!\n",
      "subj007esktop-storage/nyu_retinotopy_data/freesurfer_test/sub-wl\n",
      "sub-wlsubj007:successfully convert!\n",
      "subj014esktop-storage/nyu_retinotopy_data/freesurfer_test/sub-wl\n",
      "sub-wlsubj014:successfully convert!\n",
      "subj019esktop-storage/nyu_retinotopy_data/freesurfer_test/sub-wl\n",
      "sub-wlsubj019:successfully convert!\n",
      "subj023esktop-storage/nyu_retinotopy_data/freesurfer_test/sub-wl\n",
      "sub-wlsubj023:successfully convert!\n",
      "subj042esktop-storage/nyu_retinotopy_data/freesurfer_test/sub-wl\n",
      "sub-wlsubj042:successfully convert!\n",
      "subj045esktop-storage/nyu_retinotopy_data/freesurfer_test/sub-wl\n",
      "sub-wlsubj045:successfully convert!\n",
      "subj055esktop-storage/nyu_retinotopy_data/freesurfer_test/sub-wl\n",
      "sub-wlsubj055:successfully convert!\n",
      "subj056esktop-storage/nyu_retinotopy_data/freesurfer_test/sub-wl\n",
      "sub-wlsubj056:successfully convert!\n",
      "subj057esktop-storage/nyu_retinotopy_data/freesurfer_test/sub-wl\n",
      "sub-wlsubj057:successfully convert!\n",
      "subj062esktop-storage/nyu_retinotopy_data/freesurfer_test/sub-wl\n",
      "sub-wlsubj062:successfully convert!\n",
      "subj071esktop-storage/nyu_retinotopy_data/freesurfer_test/sub-wl\n",
      "sub-wlsubj071:successfully convert!\n",
      "subj076esktop-storage/nyu_retinotopy_data/freesurfer_test/sub-wl\n",
      "sub-wlsubj076:successfully convert!\n",
      "subj079esktop-storage/nyu_retinotopy_data/freesurfer_test/sub-wl\n",
      "sub-wlsubj079:successfully convert!\n",
      "subj081esktop-storage/nyu_retinotopy_data/freesurfer_test/sub-wl\n",
      "sub-wlsubj081:successfully convert!\n",
      "subj083esktop-storage/nyu_retinotopy_data/freesurfer_test/sub-wl\n",
      "sub-wlsubj083:successfully convert!\n",
      "subj084esktop-storage/nyu_retinotopy_data/freesurfer_test/sub-wl\n",
      "sub-wlsubj084:successfully convert!\n",
      "subj086esktop-storage/nyu_retinotopy_data/freesurfer_test/sub-wl\n",
      "sub-wlsubj086:successfully convert!\n",
      "subj088esktop-storage/nyu_retinotopy_data/freesurfer_test/sub-wl\n",
      "sub-wlsubj088:successfully convert!\n",
      "subj091esktop-storage/nyu_retinotopy_data/freesurfer_test/sub-wl\n",
      "sub-wlsubj091:successfully convert!\n",
      "subj094esktop-storage/nyu_retinotopy_data/freesurfer_test/sub-wl\n",
      "sub-wlsubj094:successfully convert!\n",
      "subj095esktop-storage/nyu_retinotopy_data/freesurfer_test/sub-wl\n",
      "sub-wlsubj095:successfully convert!\n",
      "subj104esktop-storage/nyu_retinotopy_data/freesurfer_test/sub-wl\n",
      "sub-wlsubj104:successfully convert!\n",
      "subj114esktop-storage/nyu_retinotopy_data/freesurfer_test/sub-wl\n",
      "sub-wlsubj114:successfully convert!\n",
      "subj115esktop-storage/nyu_retinotopy_data/freesurfer_test/sub-wl\n",
      "sub-wlsubj115:successfully convert!\n",
      "subj116esktop-storage/nyu_retinotopy_data/freesurfer_test/sub-wl\n",
      "sub-wlsubj116:successfully convert!\n",
      "subj117esktop-storage/nyu_retinotopy_data/freesurfer_test/sub-wl\n",
      "sub-wlsubj117:successfully convert!\n",
      "subj118esktop-storage/nyu_retinotopy_data/freesurfer_test/sub-wl\n",
      "sub-wlsubj118:successfully convert!\n",
      "subj120esktop-storage/nyu_retinotopy_data/freesurfer_test/sub-wl\n",
      "sub-wlsubj120:successfully convert!\n",
      "subj126esktop-storage/nyu_retinotopy_data/freesurfer_test/sub-wl\n",
      "sub-wlsubj126:successfully convert!\n"
     ]
    }
   ],
   "source": [
    "%%bash\n",
    "echo Convert to average space!\n",
    "for dir in $sub_path/sub-wlsubj*; do\n",
    "    echo $dir\n",
    "    subject=$(basename \"$dir\")\n",
    "    wb_command -metric-resample \"$sub_path\"/../nyu_converted/$subject/\"$hemisphere\".\"$hemisphere\"_native_vexpl.func.gii \\\n",
    "        $dir/surf/\"$hemisphere\".sphere.reg.surf.gii \"$sub_path\"/../templates/fs_LR-deformed_to-fsaverage.\"$hemi\".sphere.32k_fs_LR.surf.gii \\\n",
    "        ADAP_BARY_AREA $dir/surf/fs_vexpl.\"$hemisphere\".32k_fs_LR.func.gii \\\n",
    "        -area-surfs $dir/surf/\"$hemisphere\".pial.surf.gii $dir/surf/\"$subject\".\"$hemisphere\".pial.32k_fs_LR.surf.gii  \n",
    "    echo $subject\":successfully convert!\"\n",
    "done"
   ]
  }
 ],
 "metadata": {
  "kernelspec": {
   "display_name": "Python [conda env:base] *",
   "language": "python",
   "name": "conda-base-py"
  },
  "language_info": {
   "codemirror_mode": {
    "name": "ipython",
    "version": 3
   },
   "file_extension": ".py",
   "mimetype": "text/x-python",
   "name": "python",
   "nbconvert_exporter": "python",
   "pygments_lexer": "ipython3",
   "version": "3.12.8"
  }
 },
 "nbformat": 4,
 "nbformat_minor": 5
}
