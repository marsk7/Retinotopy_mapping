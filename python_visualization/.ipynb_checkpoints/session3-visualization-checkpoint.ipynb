{
 "cells": [
  {
   "cell_type": "markdown",
   "id": "79cd97de-ac3a-46d4-a9df-b978e9c7e14a",
   "metadata": {},
   "source": [
    "# Visualization\n",
    "This interactive notebook demonstrates how to visualize polar angle and field sign maps generated in part 1 and 2, respectively. We will use nilearn with custom modifications and functions.\n",
    "\n",
    "**Requirements:**\n",
    "- conda environment with required packages;"
   ]
  },
  {
   "cell_type": "markdown",
   "id": "4a84e2d4-0c66-418d-885f-33d630a2430b",
   "metadata": {},
   "source": [
    "## Creating a conda environment for data visualization\n",
    "You can run the following cell or create the conda environment via a terminal window."
   ]
  },
  {
   "cell_type": "code",
   "execution_count": 1,
   "id": "2fe5b067-71d8-460e-be27-7622789d846d",
   "metadata": {
    "scrolled": true
   },
   "outputs": [],
   "source": [
    "# %%bash\n",
    "# conda create -n deepretinotopy python=3.8 ipykernel -y\n",
    "# conda activate deepretinotopy\n",
    "\n",
    "# pip install -r requirements.txt;"
   ]
  },
  {
   "cell_type": "markdown",
   "id": "76e306b7-f822-400a-92dc-c17c7049928a",
   "metadata": {},
   "source": [
    "Now, we have to  switch conda environments and select the 'deepRetinotopy' one. The notebook will be restarted, but you don't need to rerun the previous cell, just the ones below."
   ]
  },
  {
   "cell_type": "code",
   "execution_count": 1,
   "id": "be1787c1-d130-46f4-98da-20f76da5fa0c",
   "metadata": {},
   "outputs": [],
   "source": [
    "# imports\n",
    "import numpy as np\n",
    "import pandas as pd\n",
    "import random\n",
    "import sys\n",
    "import os\n",
    "\n",
    "sys.path.append('.')\n",
    "\n",
    "from visualization import polarAngle_plot, signMap_plot\n",
    "from ipywidgets import interact, Dropdown"
   ]
  },
  {
   "cell_type": "markdown",
   "id": "0a0ae2f6-09b1-4399-8fcc-f0a426c1ce9b",
   "metadata": {},
   "source": [
    "## Visualization of polar angle maps"
   ]
  },
  {
   "cell_type": "code",
   "execution_count": 3,
   "id": "cde4baa7-efd5-499a-967c-b75d3acac488",
   "metadata": {},
   "outputs": [
    {
     "data": {
      "application/vnd.jupyter.widget-view+json": {
       "model_id": "68e1f733e50c4e2b8ab3958c9ae11418",
       "version_major": 2,
       "version_minor": 0
      },
      "text/plain": [
       "interactive(children=(Text(value='sub-wlsubj117', description='subject_id'), Dropdown(description='prediction'…"
      ]
     },
     "metadata": {},
     "output_type": "display_data"
    },
    {
     "data": {
      "text/plain": [
       "\"\\n# visualize all subjects\\nfolder_path = '/neurodesktop-storage/nyu_retinotopy_data/freesurfer/'\\nitems = os.listdir(folder_path)\\nfor item in items:\\n    full_path = os.path.join(folder_path, item)\\n    if os.path.isdir(full_path) and item[:-3] == 'sub-wlsubj' and item != 'sub-wlsubj121':\\n        print(item)\\n        plot1(item, 'empirical', False)\\n\""
      ]
     },
     "execution_count": 3,
     "metadata": {},
     "output_type": "execute_result"
    }
   ],
   "source": [
    "# subject_id=str('sub-wlsubj001')\n",
    "# prediction = Dropdown(options = ['average', 'empirical', 'model1', 'model2', 'model3', 'model4', 'model5'])\n",
    "prediction = Dropdown(options = ['model', 'empirical'])\n",
    "# prediction = Dropdown(options = ['empirical'])\n",
    "binarize = Dropdown(options = [False, True])\n",
    "surface = Dropdown(options = ['test', 'pial2mid', 'white2mid', 'typical'])\n",
    "# surface = Dropdown(options = ['white2mid'])\n",
    "\n",
    "@interact(subject_id='sub-wlsubj117', prediction = prediction, binarize = binarize, surface = surface)\n",
    "def plot1(subject_id, prediction, binarize, surface):\n",
    "    # return polarAngle_plot(subject_id, '/home/jovyan/shared/lec-03/data/freesurfer', '/home/jovyan/shared/templates', prediction = prediction, binarize = binarize)\n",
    "    # return polarAngle_plot(subject_id, '/neurodesktop-storage/nyu_retinotopy_data/freesurfer_test', '/neurodesktop-storage/nyu_retinotopy_data/templates', prediction = prediction, binarize = binarize, save=True, save_path='/neurodesktop-storage/nyu_retinotopy_data/nyu_visualization_32k/')\n",
    "    return polarAngle_plot(subject_id, '/neurodesktop-storage/nyu_retinotopy_data/freesurfer' ,surface , '/neurodesktop-storage/nyu_retinotopy_data/templates', prediction = prediction, binarize = binarize\n",
    "                           # , save=True, save_path='/neurodesktop-storage/python_visualization'\n",
    "                          )\n",
    "\n",
    "'''\n",
    "# visualize all subjects\n",
    "folder_path = '/neurodesktop-storage/nyu_retinotopy_data/freesurfer/'\n",
    "items = os.listdir(folder_path)\n",
    "for item in items:\n",
    "    full_path = os.path.join(folder_path, item)\n",
    "    if os.path.isdir(full_path) and item[:-3] == 'sub-wlsubj' and item != 'sub-wlsubj121':\n",
    "        print(item)\n",
    "        plot1(item, 'empirical', False)\n",
    "'''"
   ]
  },
  {
   "cell_type": "markdown",
   "id": "e2764e6b-2afe-468f-90b4-4303941ff50a",
   "metadata": {},
   "source": [
    "## Visualization of polar angle maps with deepRetinotopy"
   ]
  },
  {
   "cell_type": "markdown",
   "id": "8f8b5f76-6ff7-4989-adfe-4a084d186644",
   "metadata": {},
   "source": [
    "Here we will visualize the visual field sign map generated from the predicted average polar angle and eccentricity maps. "
   ]
  },
  {
   "cell_type": "code",
   "execution_count": 5,
   "id": "d625a66f-df3f-446f-b727-44807af0fd8b",
   "metadata": {},
   "outputs": [],
   "source": [
    "# signMap_plot(subject_id, '/home/jovyan/shared/lec-03/data/freesurfer', '/home/jovyan/shared/templates', hemisphere = 'lh')\n",
    "signMap_plot(subject_id, '/neurodesktop-storage/nyu_retinotopy_data/freesurfer', '/neurodesktop-storage/nyu_retinotopy_data/templates', hemisphere = 'lh')"
   ]
  },
  {
   "cell_type": "code",
   "execution_count": 3,
   "id": "b6435692-0180-4417-8079-8819b09a2444",
   "metadata": {},
   "outputs": [],
   "source": [
    "# signMap_plot(subject_id, '/home/jovyan/shared/lec-03/data/freesurfer', '/home/jovyan/shared/templates', hemisphere = 'rh')\n",
    "signMap_plot(subject_id, '/neurodesktop-storage/nyu_retinotopy_data/freesurfer', '/neurodesktop-storage/nyu_retinotopy_data/templates', hemisphere = 'rh')"
   ]
  },
  {
   "cell_type": "code",
   "execution_count": null,
   "id": "7c1d66c3-1402-48a8-8c71-cfda6fc879c5",
   "metadata": {},
   "outputs": [],
   "source": []
  }
 ],
 "metadata": {
  "kernelspec": {
   "display_name": "Python [conda env:deepretinotopy]",
   "language": "python",
   "name": "conda-env-deepretinotopy-py"
  },
  "language_info": {
   "codemirror_mode": {
    "name": "ipython",
    "version": 3
   },
   "file_extension": ".py",
   "mimetype": "text/x-python",
   "name": "python",
   "nbconvert_exporter": "python",
   "pygments_lexer": "ipython3",
   "version": "3.8.20"
  }
 },
 "nbformat": 4,
 "nbformat_minor": 5
}
