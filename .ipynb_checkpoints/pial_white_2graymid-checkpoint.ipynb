{
 "cells": [
  {
   "cell_type": "code",
   "execution_count": 1,
   "id": "ae7f2e6a-2ecc-469f-8d38-d95476216a6c",
   "metadata": {},
   "outputs": [],
   "source": [
    "import lmod\n",
    "await lmod.load('deepretinotopy/1.0.8')\n",
    "import os\n",
    "os.environ[\"hemisphere\"] = \"lh\"\n",
    "os.environ[\"sub_path\"] = '/neurodesktop-storage/nyu_retinotopy_data/freesurfer_pial2mid'  # destination directory"
   ]
  },
  {
   "cell_type": "markdown",
   "id": "7caaada0-4aa9-44c5-9588-72016482832b",
   "metadata": {},
   "source": [
    "## Duplicate pial surface to graymid file"
   ]
  },
  {
   "cell_type": "code",
   "execution_count": 2,
   "id": "256e6fb4-921e-4ea3-81ef-e0aea74292f6",
   "metadata": {
    "scrolled": true
   },
   "outputs": [
    {
     "name": "stdout",
     "output_type": "stream",
     "text": [
      "/neurodesktop-storage/nyu_retinotopy_data/freesurfer_pial2mid/sub-wlsubj001\n"
     ]
    },
    {
     "name": "stderr",
     "output_type": "stream",
     "text": [
      "total integrated curvature = 13.700*4pi (172.164) --> -13 handles\n",
      "ICI = 221.3, FI = 2990.1, variation=44928.495\n",
      "writing Gaussian curvature to /neurodesktop-storage/nyu_retinotopy_data/freesurfer_pial2mid/sub-wlsubj001/surf/rh.graymid.K...done.\n",
      "subj001/surf/rh.graymid.H...done.esktop-storage/nyu_retinotopy_data/freesurfer_pial2mid/sub-wl\n"
     ]
    },
    {
     "name": "stdout",
     "output_type": "stream",
     "text": [
      "sub-wlsubj001:successfully generate pial to graymid file!\n",
      "freesurfer_pial2mid/sub-wlsubj006opy_data/\n"
     ]
    },
    {
     "name": "stderr",
     "output_type": "stream",
     "text": [
      "total integrated curvature = -73.421*4pi (-922.640) --> 74 handles\n",
      "ICI = 195.1, FI = 7633.4, variation=112728.705\n",
      "writing Gaussian curvature to /neurodesktop-storage/nyu_retinotopy_data/freesurfer_pial2mid/sub-wlsubj006/surf/rh.graymid.K...done.\n",
      "subj006/surf/rh.graymid.H...done.esktop-storage/nyu_retinotopy_data/freesurfer_pial2mid/sub-wl\n"
     ]
    },
    {
     "name": "stdout",
     "output_type": "stream",
     "text": [
      "sub-wlsubj006:successfully generate pial to graymid file!\n",
      "freesurfer_pial2mid/sub-wlsubj007opy_data/\n"
     ]
    },
    {
     "name": "stderr",
     "output_type": "stream",
     "text": [
      "total integrated curvature = 5.420*4pi (68.109) --> -4 handles\n",
      "ICI = 217.8, FI = 903137.3, variation=11356527.601\n",
      "writing Gaussian curvature to /neurodesktop-storage/nyu_retinotopy_data/freesurfer_pial2mid/sub-wlsubj007/surf/rh.graymid.K...done.\n",
      "subj007/surf/rh.graymid.H...done.esktop-storage/nyu_retinotopy_data/freesurfer_pial2mid/sub-wl\n"
     ]
    },
    {
     "name": "stdout",
     "output_type": "stream",
     "text": [
      "sub-wlsubj007:successfully generate pial to graymid file!\n",
      "freesurfer_pial2mid/sub-wlsubj014opy_data/\n"
     ]
    },
    {
     "name": "stderr",
     "output_type": "stream",
     "text": [
      "total integrated curvature = 40.573*4pi (509.849) --> -40 handles\n",
      "ICI = 210.6, FI = 2147.9, variation=33535.090\n",
      "writing Gaussian curvature to /neurodesktop-storage/nyu_retinotopy_data/freesurfer_pial2mid/sub-wlsubj014/surf/rh.graymid.K...done.\n",
      "subj014/surf/rh.graymid.H...done.esktop-storage/nyu_retinotopy_data/freesurfer_pial2mid/sub-wl\n"
     ]
    },
    {
     "name": "stdout",
     "output_type": "stream",
     "text": [
      "sub-wlsubj014:successfully generate pial to graymid file!\n",
      "freesurfer_pial2mid/sub-wlsubj019opy_data/\n"
     ]
    },
    {
     "name": "stderr",
     "output_type": "stream",
     "text": [
      "total integrated curvature = 31.441*4pi (395.105) --> -30 handles\n",
      "ICI = 303.4, FI = 5620.2, variation=80447.596\n",
      "writing Gaussian curvature to /neurodesktop-storage/nyu_retinotopy_data/freesurfer_pial2mid/sub-wlsubj019/surf/rh.graymid.K...done.\n",
      "subj019/surf/rh.graymid.H...done.esktop-storage/nyu_retinotopy_data/freesurfer_pial2mid/sub-wl\n"
     ]
    },
    {
     "name": "stdout",
     "output_type": "stream",
     "text": [
      "sub-wlsubj019:successfully generate pial to graymid file!\n",
      "freesurfer_pial2mid/sub-wlsubj023opy_data/\n"
     ]
    },
    {
     "name": "stderr",
     "output_type": "stream",
     "text": [
      "total integrated curvature = 37.523*4pi (471.527) --> -37 handles\n",
      "ICI = 240.4, FI = 2623.4, variation=40637.075\n",
      "writing Gaussian curvature to /neurodesktop-storage/nyu_retinotopy_data/freesurfer_pial2mid/sub-wlsubj023/surf/rh.graymid.K...done.\n",
      "subj023/surf/rh.graymid.H...done.esktop-storage/nyu_retinotopy_data/freesurfer_pial2mid/sub-wl\n"
     ]
    },
    {
     "name": "stdout",
     "output_type": "stream",
     "text": [
      "sub-wlsubj023:successfully generate pial to graymid file!\n",
      "freesurfer_pial2mid/sub-wlsubj042opy_data/\n"
     ]
    },
    {
     "name": "stderr",
     "output_type": "stream",
     "text": [
      "total integrated curvature = 38.625*4pi (485.374) --> -38 handles\n",
      "ICI = 265.9, FI = 5394.2, variation=79085.006\n",
      "writing Gaussian curvature to /neurodesktop-storage/nyu_retinotopy_data/freesurfer_pial2mid/sub-wlsubj042/surf/rh.graymid.K...done.\n",
      "subj042/surf/rh.graymid.H...done.esktop-storage/nyu_retinotopy_data/freesurfer_pial2mid/sub-wl\n"
     ]
    },
    {
     "name": "stdout",
     "output_type": "stream",
     "text": [
      "sub-wlsubj042:successfully generate pial to graymid file!\n",
      "freesurfer_pial2mid/sub-wlsubj045opy_data/\n"
     ]
    },
    {
     "name": "stderr",
     "output_type": "stream",
     "text": [
      "total integrated curvature = 30.596*4pi (384.478) --> -30 handles\n",
      "ICI = 256.4, FI = 160295.7, variation=2022720.951\n",
      "writing Gaussian curvature to /neurodesktop-storage/nyu_retinotopy_data/freesurfer_pial2mid/sub-wlsubj045/surf/rh.graymid.K...done.\n",
      "subj045/surf/rh.graymid.H...done.esktop-storage/nyu_retinotopy_data/freesurfer_pial2mid/sub-wl\n"
     ]
    },
    {
     "name": "stdout",
     "output_type": "stream",
     "text": [
      "sub-wlsubj045:successfully generate pial to graymid file!\n",
      "freesurfer_pial2mid/sub-wlsubj055opy_data/\n"
     ]
    },
    {
     "name": "stderr",
     "output_type": "stream",
     "text": [
      "total integrated curvature = 45.951*4pi (577.435) --> -45 handles\n",
      "ICI = 311.6, FI = 3647.8, variation=55841.826\n",
      "writing Gaussian curvature to /neurodesktop-storage/nyu_retinotopy_data/freesurfer_pial2mid/sub-wlsubj055/surf/rh.graymid.K...done.\n",
      "subj055/surf/rh.graymid.H...done.esktop-storage/nyu_retinotopy_data/freesurfer_pial2mid/sub-wl\n"
     ]
    },
    {
     "name": "stdout",
     "output_type": "stream",
     "text": [
      "sub-wlsubj055:successfully generate pial to graymid file!\n",
      "freesurfer_pial2mid/sub-wlsubj056opy_data/\n"
     ]
    },
    {
     "name": "stderr",
     "output_type": "stream",
     "text": [
      "total integrated curvature = 40.499*4pi (508.924) --> -39 handles\n",
      "ICI = 317.6, FI = 18134.3, variation=238031.394\n",
      "writing Gaussian curvature to /neurodesktop-storage/nyu_retinotopy_data/freesurfer_pial2mid/sub-wlsubj056/surf/rh.graymid.K...done.\n",
      "subj056/surf/rh.graymid.H...done.esktop-storage/nyu_retinotopy_data/freesurfer_pial2mid/sub-wl\n"
     ]
    },
    {
     "name": "stdout",
     "output_type": "stream",
     "text": [
      "sub-wlsubj056:successfully generate pial to graymid file!\n",
      "freesurfer_pial2mid/sub-wlsubj057opy_data/\n"
     ]
    },
    {
     "name": "stderr",
     "output_type": "stream",
     "text": [
      "total integrated curvature = -119.534*4pi (-1502.110) --> 121 handles\n",
      "ICI = 198.1, FI = 42490.4, variation=543160.037\n",
      "writing Gaussian curvature to /neurodesktop-storage/nyu_retinotopy_data/freesurfer_pial2mid/sub-wlsubj057/surf/rh.graymid.K...done.\n",
      "subj057/surf/rh.graymid.H...done.esktop-storage/nyu_retinotopy_data/freesurfer_pial2mid/sub-wl\n"
     ]
    },
    {
     "name": "stdout",
     "output_type": "stream",
     "text": [
      "sub-wlsubj057:successfully generate pial to graymid file!\n",
      "freesurfer_pial2mid/sub-wlsubj062opy_data/\n"
     ]
    },
    {
     "name": "stderr",
     "output_type": "stream",
     "text": [
      "total integrated curvature = 23.284*4pi (292.591) --> -22 handles\n",
      "ICI = 267.6, FI = 4121.8, variation=70851.485\n",
      "writing Gaussian curvature to /neurodesktop-storage/nyu_retinotopy_data/freesurfer_pial2mid/sub-wlsubj062/surf/rh.graymid.K...done.\n",
      "subj062/surf/rh.graymid.H...done.esktop-storage/nyu_retinotopy_data/freesurfer_pial2mid/sub-wl\n"
     ]
    },
    {
     "name": "stdout",
     "output_type": "stream",
     "text": [
      "sub-wlsubj062:successfully generate pial to graymid file!\n",
      "freesurfer_pial2mid/sub-wlsubj071opy_data/\n"
     ]
    },
    {
     "name": "stderr",
     "output_type": "stream",
     "text": [
      "total integrated curvature = 62.422*4pi (784.414) --> -61 handles\n",
      "ICI = 357.0, FI = 8117.8, variation=113801.835\n",
      "writing Gaussian curvature to /neurodesktop-storage/nyu_retinotopy_data/freesurfer_pial2mid/sub-wlsubj071/surf/rh.graymid.K...done.\n",
      "subj071/surf/rh.graymid.H...done.esktop-storage/nyu_retinotopy_data/freesurfer_pial2mid/sub-wl\n"
     ]
    },
    {
     "name": "stdout",
     "output_type": "stream",
     "text": [
      "sub-wlsubj071:successfully generate pial to graymid file!\n",
      "freesurfer_pial2mid/sub-wlsubj076opy_data/\n"
     ]
    },
    {
     "name": "stderr",
     "output_type": "stream",
     "text": [
      "total integrated curvature = 31.325*4pi (393.638) --> -30 handles\n",
      "ICI = 306.1, FI = 8466.2, variation=116313.751\n",
      "writing Gaussian curvature to /neurodesktop-storage/nyu_retinotopy_data/freesurfer_pial2mid/sub-wlsubj076/surf/rh.graymid.K...done.\n",
      "subj076/surf/rh.graymid.H...done.esktop-storage/nyu_retinotopy_data/freesurfer_pial2mid/sub-wl\n"
     ]
    },
    {
     "name": "stdout",
     "output_type": "stream",
     "text": [
      "sub-wlsubj076:successfully generate pial to graymid file!\n",
      "freesurfer_pial2mid/sub-wlsubj079opy_data/\n"
     ]
    },
    {
     "name": "stderr",
     "output_type": "stream",
     "text": [
      "total integrated curvature = -61.359*4pi (-771.055) --> 62 handles\n",
      "ICI = 219.5, FI = 378001.9, variation=4796689.789\n",
      "writing Gaussian curvature to /neurodesktop-storage/nyu_retinotopy_data/freesurfer_pial2mid/sub-wlsubj079/surf/rh.graymid.K...done.\n",
      "subj079/surf/rh.graymid.H...done.esktop-storage/nyu_retinotopy_data/freesurfer_pial2mid/sub-wl\n"
     ]
    },
    {
     "name": "stdout",
     "output_type": "stream",
     "text": [
      "sub-wlsubj079:successfully generate pial to graymid file!\n",
      "freesurfer_pial2mid/sub-wlsubj081opy_data/\n"
     ]
    },
    {
     "name": "stderr",
     "output_type": "stream",
     "text": [
      "total integrated curvature = 28.749*4pi (361.265) --> -28 handles\n",
      "ICI = 228.4, FI = 2877.9, variation=43511.787\n",
      "writing Gaussian curvature to /neurodesktop-storage/nyu_retinotopy_data/freesurfer_pial2mid/sub-wlsubj081/surf/rh.graymid.K...done.\n",
      "subj081/surf/rh.graymid.H...done.esktop-storage/nyu_retinotopy_data/freesurfer_pial2mid/sub-wl\n"
     ]
    },
    {
     "name": "stdout",
     "output_type": "stream",
     "text": [
      "sub-wlsubj081:successfully generate pial to graymid file!\n",
      "freesurfer_pial2mid/sub-wlsubj083opy_data/\n"
     ]
    },
    {
     "name": "stderr",
     "output_type": "stream",
     "text": [
      "total integrated curvature = 42.094*4pi (528.973) --> -41 handles\n",
      "ICI = 305.6, FI = 3609.6, variation=55249.166\n",
      "writing Gaussian curvature to /neurodesktop-storage/nyu_retinotopy_data/freesurfer_pial2mid/sub-wlsubj083/surf/rh.graymid.K...done.\n",
      "subj083/surf/rh.graymid.H...done.esktop-storage/nyu_retinotopy_data/freesurfer_pial2mid/sub-wl\n"
     ]
    },
    {
     "name": "stdout",
     "output_type": "stream",
     "text": [
      "sub-wlsubj083:successfully generate pial to graymid file!\n",
      "freesurfer_pial2mid/sub-wlsubj084opy_data/\n"
     ]
    },
    {
     "name": "stderr",
     "output_type": "stream",
     "text": [
      "total integrated curvature = 55.203*4pi (693.702) --> -54 handles\n",
      "ICI = 308.4, FI = 3601.7, variation=55006.008\n",
      "writing Gaussian curvature to /neurodesktop-storage/nyu_retinotopy_data/freesurfer_pial2mid/sub-wlsubj084/surf/rh.graymid.K...done.\n",
      "subj084/surf/rh.graymid.H...done.esktop-storage/nyu_retinotopy_data/freesurfer_pial2mid/sub-wl\n"
     ]
    },
    {
     "name": "stdout",
     "output_type": "stream",
     "text": [
      "sub-wlsubj084:successfully generate pial to graymid file!\n",
      "freesurfer_pial2mid/sub-wlsubj086opy_data/\n"
     ]
    },
    {
     "name": "stderr",
     "output_type": "stream",
     "text": [
      "total integrated curvature = 30.264*4pi (380.308) --> -29 handles\n",
      "ICI = 260.2, FI = 4948.9, variation=70632.466\n",
      "writing Gaussian curvature to /neurodesktop-storage/nyu_retinotopy_data/freesurfer_pial2mid/sub-wlsubj086/surf/rh.graymid.K...done.\n",
      "subj086/surf/rh.graymid.H...done.esktop-storage/nyu_retinotopy_data/freesurfer_pial2mid/sub-wl\n"
     ]
    },
    {
     "name": "stdout",
     "output_type": "stream",
     "text": [
      "sub-wlsubj086:successfully generate pial to graymid file!\n",
      "freesurfer_pial2mid/sub-wlsubj088opy_data/\n"
     ]
    },
    {
     "name": "stderr",
     "output_type": "stream",
     "text": [
      "total integrated curvature = 43.057*4pi (541.074) --> -42 handles\n",
      "ICI = 299.2, FI = 5416.3, variation=77650.660\n",
      "writing Gaussian curvature to /neurodesktop-storage/nyu_retinotopy_data/freesurfer_pial2mid/sub-wlsubj088/surf/rh.graymid.K...done.\n",
      "subj088/surf/rh.graymid.H...done.esktop-storage/nyu_retinotopy_data/freesurfer_pial2mid/sub-wl\n"
     ]
    },
    {
     "name": "stdout",
     "output_type": "stream",
     "text": [
      "sub-wlsubj088:successfully generate pial to graymid file!\n",
      "freesurfer_pial2mid/sub-wlsubj091opy_data/\n"
     ]
    },
    {
     "name": "stderr",
     "output_type": "stream",
     "text": [
      "total integrated curvature = 67.474*4pi (847.898) --> -66 handles\n",
      "ICI = 315.0, FI = 4096.0, variation=61488.466\n",
      "writing Gaussian curvature to /neurodesktop-storage/nyu_retinotopy_data/freesurfer_pial2mid/sub-wlsubj091/surf/rh.graymid.K...done.\n",
      "subj091/surf/rh.graymid.H...done.esktop-storage/nyu_retinotopy_data/freesurfer_pial2mid/sub-wl\n"
     ]
    },
    {
     "name": "stdout",
     "output_type": "stream",
     "text": [
      "sub-wlsubj091:successfully generate pial to graymid file!\n",
      "freesurfer_pial2mid/sub-wlsubj094opy_data/\n"
     ]
    },
    {
     "name": "stderr",
     "output_type": "stream",
     "text": [
      "total integrated curvature = 20.676*4pi (259.817) --> -20 handles\n",
      "ICI = 314.3, FI = 305498.4, variation=3849478.635\n",
      "writing Gaussian curvature to /neurodesktop-storage/nyu_retinotopy_data/freesurfer_pial2mid/sub-wlsubj094/surf/rh.graymid.K...done.\n",
      "subj094/surf/rh.graymid.H...done.esktop-storage/nyu_retinotopy_data/freesurfer_pial2mid/sub-wl\n"
     ]
    },
    {
     "name": "stdout",
     "output_type": "stream",
     "text": [
      "sub-wlsubj094:successfully generate pial to graymid file!\n",
      "freesurfer_pial2mid/sub-wlsubj095opy_data/\n"
     ]
    },
    {
     "name": "stderr",
     "output_type": "stream",
     "text": [
      "total integrated curvature = 20.132*4pi (252.981) --> -19 handles\n",
      "ICI = 248.8, FI = 3383.7, variation=50667.788\n",
      "writing Gaussian curvature to /neurodesktop-storage/nyu_retinotopy_data/freesurfer_pial2mid/sub-wlsubj095/surf/rh.graymid.K...done.\n",
      "subj095/surf/rh.graymid.H...done.esktop-storage/nyu_retinotopy_data/freesurfer_pial2mid/sub-wl\n"
     ]
    },
    {
     "name": "stdout",
     "output_type": "stream",
     "text": [
      "sub-wlsubj095:successfully generate pial to graymid file!\n",
      "freesurfer_pial2mid/sub-wlsubj104opy_data/\n"
     ]
    },
    {
     "name": "stderr",
     "output_type": "stream",
     "text": [
      "total integrated curvature = 24.000*4pi (301.593) --> -23 handles\n",
      "ICI = 265.6, FI = 3795.6, variation=56377.788\n",
      "writing Gaussian curvature to /neurodesktop-storage/nyu_retinotopy_data/freesurfer_pial2mid/sub-wlsubj104/surf/rh.graymid.K...done.\n",
      "subj104/surf/rh.graymid.H...done.esktop-storage/nyu_retinotopy_data/freesurfer_pial2mid/sub-wl\n"
     ]
    },
    {
     "name": "stdout",
     "output_type": "stream",
     "text": [
      "sub-wlsubj104:successfully generate pial to graymid file!\n",
      "freesurfer_pial2mid/sub-wlsubj114opy_data/\n"
     ]
    },
    {
     "name": "stderr",
     "output_type": "stream",
     "text": [
      "total integrated curvature = 53.503*4pi (672.343) --> -53 handles\n",
      "ICI = 345.3, FI = 5186.7, variation=76125.222\n",
      "writing Gaussian curvature to /neurodesktop-storage/nyu_retinotopy_data/freesurfer_pial2mid/sub-wlsubj114/surf/rh.graymid.K...done.\n",
      "subj114/surf/rh.graymid.H...done.esktop-storage/nyu_retinotopy_data/freesurfer_pial2mid/sub-wl\n"
     ]
    },
    {
     "name": "stdout",
     "output_type": "stream",
     "text": [
      "sub-wlsubj114:successfully generate pial to graymid file!\n",
      "freesurfer_pial2mid/sub-wlsubj115opy_data/\n"
     ]
    },
    {
     "name": "stderr",
     "output_type": "stream",
     "text": [
      "total integrated curvature = 32.488*4pi (408.258) --> -31 handles\n",
      "ICI = 265.0, FI = 6342.4, variation=88254.026\n",
      "writing Gaussian curvature to /neurodesktop-storage/nyu_retinotopy_data/freesurfer_pial2mid/sub-wlsubj115/surf/rh.graymid.K...done.\n",
      "subj115/surf/rh.graymid.H...done.esktop-storage/nyu_retinotopy_data/freesurfer_pial2mid/sub-wl\n"
     ]
    },
    {
     "name": "stdout",
     "output_type": "stream",
     "text": [
      "sub-wlsubj115:successfully generate pial to graymid file!\n",
      "freesurfer_pial2mid/sub-wlsubj116opy_data/\n"
     ]
    },
    {
     "name": "stderr",
     "output_type": "stream",
     "text": [
      "total integrated curvature = 39.630*4pi (498.006) --> -39 handles\n",
      "ICI = 267.0, FI = 643968.9, variation=8100940.604\n",
      "writing Gaussian curvature to /neurodesktop-storage/nyu_retinotopy_data/freesurfer_pial2mid/sub-wlsubj116/surf/rh.graymid.K...done.\n",
      "subj116/surf/rh.graymid.H...done.esktop-storage/nyu_retinotopy_data/freesurfer_pial2mid/sub-wl\n"
     ]
    },
    {
     "name": "stdout",
     "output_type": "stream",
     "text": [
      "sub-wlsubj116:successfully generate pial to graymid file!\n",
      "freesurfer_pial2mid/sub-wlsubj117opy_data/\n"
     ]
    },
    {
     "name": "stderr",
     "output_type": "stream",
     "text": [
      "total integrated curvature = -38.900*4pi (-488.829) --> 40 handles\n",
      "ICI = 210.5, FI = 36024.3, variation=460838.362\n",
      "writing Gaussian curvature to /neurodesktop-storage/nyu_retinotopy_data/freesurfer_pial2mid/sub-wlsubj117/surf/rh.graymid.K...done.\n",
      "subj117/surf/rh.graymid.H...done.esktop-storage/nyu_retinotopy_data/freesurfer_pial2mid/sub-wl\n"
     ]
    },
    {
     "name": "stdout",
     "output_type": "stream",
     "text": [
      "sub-wlsubj117:successfully generate pial to graymid file!\n",
      "freesurfer_pial2mid/sub-wlsubj118opy_data/\n"
     ]
    },
    {
     "name": "stderr",
     "output_type": "stream",
     "text": [
      "total integrated curvature = -128.617*4pi (-1616.255) --> 130 handles\n",
      "ICI = 230.1, FI = 1080894.9, variation=13607884.644\n",
      "writing Gaussian curvature to /neurodesktop-storage/nyu_retinotopy_data/freesurfer_pial2mid/sub-wlsubj118/surf/rh.graymid.K...done.\n",
      "subj118/surf/rh.graymid.H...done.esktop-storage/nyu_retinotopy_data/freesurfer_pial2mid/sub-wl\n"
     ]
    },
    {
     "name": "stdout",
     "output_type": "stream",
     "text": [
      "sub-wlsubj118:successfully generate pial to graymid file!\n",
      "freesurfer_pial2mid/sub-wlsubj120opy_data/\n"
     ]
    },
    {
     "name": "stderr",
     "output_type": "stream",
     "text": [
      "total integrated curvature = -197.633*4pi (-2483.529) --> 199 handles\n",
      "ICI = 193.3, FI = 9253205.4, variation=116448475.953\n",
      "writing Gaussian curvature to /neurodesktop-storage/nyu_retinotopy_data/freesurfer_pial2mid/sub-wlsubj120/surf/rh.graymid.K...done.\n",
      "subj120/surf/rh.graymid.H...done.esktop-storage/nyu_retinotopy_data/freesurfer_pial2mid/sub-wl\n"
     ]
    },
    {
     "name": "stdout",
     "output_type": "stream",
     "text": [
      "sub-wlsubj120:successfully generate pial to graymid file!\n",
      "freesurfer_pial2mid/sub-wlsubj126opy_data/\n"
     ]
    },
    {
     "name": "stderr",
     "output_type": "stream",
     "text": [
      "total integrated curvature = -95.383*4pi (-1198.621) --> 96 handles\n",
      "ICI = 205.9, FI = 87623.6, variation=1115096.538\n",
      "writing Gaussian curvature to /neurodesktop-storage/nyu_retinotopy_data/freesurfer_pial2mid/sub-wlsubj126/surf/rh.graymid.K...done.\n",
      "subj126/surf/rh.graymid.H...done.esktop-storage/nyu_retinotopy_data/freesurfer_pial2mid/sub-wl\n"
     ]
    },
    {
     "name": "stdout",
     "output_type": "stream",
     "text": [
      "sub-wlsubj126:successfully generate pial to graymid file!\n"
     ]
    }
   ],
   "source": [
    "%%bash\n",
    "for dir in $sub_path/sub-wlsubj*; do\n",
    "    echo $dir\n",
    "    subject=$(basename \"$dir\")\n",
    "    cp $dir/surf/\"$hemisphere\".pial $dir/surf/\"$hemisphere\".graymid\n",
    "    mris_curvature -w $dir/surf/\"$hemisphere\".graymid\n",
    "    echo $subject\":successfully generate pial to graymid file!\"\n",
    "done"
   ]
  },
  {
   "cell_type": "markdown",
   "id": "ed801347-ff56-4cf6-9623-b1105f58e488",
   "metadata": {},
   "source": [
    "## Duplicate white surface to graymid surface file"
   ]
  },
  {
   "cell_type": "code",
   "execution_count": 3,
   "id": "0255661f-0176-4b87-9272-501c65d0b5f1",
   "metadata": {},
   "outputs": [],
   "source": [
    "os.environ[\"sub_path\"] = '/neurodesktop-storage/nyu_retinotopy_data/freesurfer_white2mid'"
   ]
  },
  {
   "cell_type": "code",
   "execution_count": 4,
   "id": "3f237516-22fd-4a38-b2c7-2d76862aaf68",
   "metadata": {
    "scrolled": true
   },
   "outputs": [
    {
     "name": "stdout",
     "output_type": "stream",
     "text": [
      "/neurodesktop-storage/nyu_retinotopy_data/freesurfer_white2mid/sub-wlsubj001\n"
     ]
    },
    {
     "name": "stderr",
     "output_type": "stream",
     "text": [
      "total integrated curvature = 22.566*4pi (283.568) --> -22 handles\n",
      "ICI = 188.5, FI = 1878.2, variation=29556.928\n",
      "writing Gaussian curvature to /neurodesktop-storage/nyu_retinotopy_data/freesurfer_white2mid/sub-wlsubj001/surf/rh.graymid.K...done.\n",
      "lsubj001/surf/rh.graymid.H...done.sktop-storage/nyu_retinotopy_data/freesurfer_white2mid/sub-w\n"
     ]
    },
    {
     "name": "stdout",
     "output_type": "stream",
     "text": [
      "sub-wlsubj001:successfully generate white to graymid file!\n",
      "/freesurfer_white2mid/sub-wlsubj006y_data\n"
     ]
    },
    {
     "name": "stderr",
     "output_type": "stream",
     "text": [
      "total integrated curvature = 22.467*4pi (282.324) --> -21 handles\n",
      "ICI = 206.8, FI = 2120.1, variation=33181.415\n",
      "writing Gaussian curvature to /neurodesktop-storage/nyu_retinotopy_data/freesurfer_white2mid/sub-wlsubj006/surf/rh.graymid.K...done.\n",
      "lsubj006/surf/rh.graymid.H...done.sktop-storage/nyu_retinotopy_data/freesurfer_white2mid/sub-w\n"
     ]
    },
    {
     "name": "stdout",
     "output_type": "stream",
     "text": [
      "sub-wlsubj006:successfully generate white to graymid file!\n",
      "/freesurfer_white2mid/sub-wlsubj007y_data\n"
     ]
    },
    {
     "name": "stderr",
     "output_type": "stream",
     "text": [
      "total integrated curvature = 11.153*4pi (140.157) --> -10 handles\n",
      "ICI = 172.7, FI = 1962.0, variation=30219.083\n",
      "writing Gaussian curvature to /neurodesktop-storage/nyu_retinotopy_data/freesurfer_white2mid/sub-wlsubj007/surf/rh.graymid.K...done.\n",
      "lsubj007/surf/rh.graymid.H...done.sktop-storage/nyu_retinotopy_data/freesurfer_white2mid/sub-w\n"
     ]
    },
    {
     "name": "stdout",
     "output_type": "stream",
     "text": [
      "sub-wlsubj007:successfully generate white to graymid file!\n",
      "/freesurfer_white2mid/sub-wlsubj014y_data\n"
     ]
    },
    {
     "name": "stderr",
     "output_type": "stream",
     "text": [
      "total integrated curvature = 2.830*4pi (35.559) --> -2 handles\n",
      "ICI = 151.8, FI = 1666.5, variation=25968.590\n",
      "writing Gaussian curvature to /neurodesktop-storage/nyu_retinotopy_data/freesurfer_white2mid/sub-wlsubj014/surf/rh.graymid.K...done.\n",
      "lsubj014/surf/rh.graymid.H...done.sktop-storage/nyu_retinotopy_data/freesurfer_white2mid/sub-w\n"
     ]
    },
    {
     "name": "stdout",
     "output_type": "stream",
     "text": [
      "sub-wlsubj014:successfully generate white to graymid file!\n",
      "/freesurfer_white2mid/sub-wlsubj019y_data\n"
     ]
    },
    {
     "name": "stderr",
     "output_type": "stream",
     "text": [
      "total integrated curvature = 28.829*4pi (362.278) --> -28 handles\n",
      "ICI = 255.1, FI = 2437.8, variation=38759.757\n",
      "writing Gaussian curvature to /neurodesktop-storage/nyu_retinotopy_data/freesurfer_white2mid/sub-wlsubj019/surf/rh.graymid.K...done.\n",
      "lsubj019/surf/rh.graymid.H...done.sktop-storage/nyu_retinotopy_data/freesurfer_white2mid/sub-w\n"
     ]
    },
    {
     "name": "stdout",
     "output_type": "stream",
     "text": [
      "sub-wlsubj019:successfully generate white to graymid file!\n",
      "/freesurfer_white2mid/sub-wlsubj023y_data\n"
     ]
    },
    {
     "name": "stderr",
     "output_type": "stream",
     "text": [
      "total integrated curvature = -12.554*4pi (-157.764) --> 14 handles\n",
      "ICI = 185.9, FI = 1765.9, variation=28756.728\n",
      "writing Gaussian curvature to /neurodesktop-storage/nyu_retinotopy_data/freesurfer_white2mid/sub-wlsubj023/surf/rh.graymid.K...done.\n",
      "lsubj023/surf/rh.graymid.H...done.sktop-storage/nyu_retinotopy_data/freesurfer_white2mid/sub-w\n"
     ]
    },
    {
     "name": "stdout",
     "output_type": "stream",
     "text": [
      "sub-wlsubj023:successfully generate white to graymid file!\n",
      "/freesurfer_white2mid/sub-wlsubj042y_data\n"
     ]
    },
    {
     "name": "stderr",
     "output_type": "stream",
     "text": [
      "total integrated curvature = 11.449*4pi (143.876) --> -10 handles\n",
      "ICI = 206.3, FI = 2225.5, variation=34654.027\n",
      "writing Gaussian curvature to /neurodesktop-storage/nyu_retinotopy_data/freesurfer_white2mid/sub-wlsubj042/surf/rh.graymid.K...done.\n",
      "lsubj042/surf/rh.graymid.H...done.sktop-storage/nyu_retinotopy_data/freesurfer_white2mid/sub-w\n"
     ]
    },
    {
     "name": "stdout",
     "output_type": "stream",
     "text": [
      "sub-wlsubj042:successfully generate white to graymid file!\n",
      "/freesurfer_white2mid/sub-wlsubj045y_data\n"
     ]
    },
    {
     "name": "stderr",
     "output_type": "stream",
     "text": [
      "total integrated curvature = 17.198*4pi (216.114) --> -16 handles\n",
      "ICI = 214.1, FI = 2340.3, variation=36248.630\n",
      "writing Gaussian curvature to /neurodesktop-storage/nyu_retinotopy_data/freesurfer_white2mid/sub-wlsubj045/surf/rh.graymid.K...done.\n",
      "lsubj045/surf/rh.graymid.H...done.sktop-storage/nyu_retinotopy_data/freesurfer_white2mid/sub-w\n"
     ]
    },
    {
     "name": "stdout",
     "output_type": "stream",
     "text": [
      "sub-wlsubj045:successfully generate white to graymid file!\n",
      "/freesurfer_white2mid/sub-wlsubj055y_data\n"
     ]
    },
    {
     "name": "stderr",
     "output_type": "stream",
     "text": [
      "total integrated curvature = 36.312*4pi (456.307) --> -35 handles\n",
      "ICI = 263.0, FI = 2830.3, variation=43749.218\n",
      "writing Gaussian curvature to /neurodesktop-storage/nyu_retinotopy_data/freesurfer_white2mid/sub-wlsubj055/surf/rh.graymid.K...done.\n",
      "lsubj055/surf/rh.graymid.H...done.sktop-storage/nyu_retinotopy_data/freesurfer_white2mid/sub-w\n"
     ]
    },
    {
     "name": "stdout",
     "output_type": "stream",
     "text": [
      "sub-wlsubj055:successfully generate white to graymid file!\n",
      "/freesurfer_white2mid/sub-wlsubj056y_data\n"
     ]
    },
    {
     "name": "stderr",
     "output_type": "stream",
     "text": [
      "total integrated curvature = 34.364*4pi (431.830) --> -33 handles\n",
      "ICI = 274.7, FI = 2906.6, variation=45090.936\n",
      "writing Gaussian curvature to /neurodesktop-storage/nyu_retinotopy_data/freesurfer_white2mid/sub-wlsubj056/surf/rh.graymid.K...done.\n",
      "lsubj056/surf/rh.graymid.H...done.sktop-storage/nyu_retinotopy_data/freesurfer_white2mid/sub-w\n"
     ]
    },
    {
     "name": "stdout",
     "output_type": "stream",
     "text": [
      "sub-wlsubj056:successfully generate white to graymid file!\n",
      "/freesurfer_white2mid/sub-wlsubj057y_data\n"
     ]
    },
    {
     "name": "stderr",
     "output_type": "stream",
     "text": [
      "total integrated curvature = 31.131*4pi (391.199) --> -30 handles\n",
      "ICI = 221.0, FI = 2161.9, variation=34055.940\n",
      "writing Gaussian curvature to /neurodesktop-storage/nyu_retinotopy_data/freesurfer_white2mid/sub-wlsubj057/surf/rh.graymid.K...done.\n",
      "lsubj057/surf/rh.graymid.H...done.sktop-storage/nyu_retinotopy_data/freesurfer_white2mid/sub-w\n"
     ]
    },
    {
     "name": "stdout",
     "output_type": "stream",
     "text": [
      "sub-wlsubj057:successfully generate white to graymid file!\n",
      "/freesurfer_white2mid/sub-wlsubj062y_data\n"
     ]
    },
    {
     "name": "stderr",
     "output_type": "stream",
     "text": [
      "total integrated curvature = 24.052*4pi (302.252) --> -23 handles\n",
      "ICI = 226.0, FI = 2279.4, variation=35833.175\n",
      "writing Gaussian curvature to /neurodesktop-storage/nyu_retinotopy_data/freesurfer_white2mid/sub-wlsubj062/surf/rh.graymid.K...done.\n",
      "lsubj062/surf/rh.graymid.H...done.sktop-storage/nyu_retinotopy_data/freesurfer_white2mid/sub-w\n"
     ]
    },
    {
     "name": "stdout",
     "output_type": "stream",
     "text": [
      "sub-wlsubj062:successfully generate white to graymid file!\n",
      "/freesurfer_white2mid/sub-wlsubj071y_data\n"
     ]
    },
    {
     "name": "stderr",
     "output_type": "stream",
     "text": [
      "total integrated curvature = 44.296*4pi (556.636) --> -43 handles\n",
      "ICI = 301.4, FI = 2680.8, variation=43201.062\n",
      "writing Gaussian curvature to /neurodesktop-storage/nyu_retinotopy_data/freesurfer_white2mid/sub-wlsubj071/surf/rh.graymid.K...done.\n",
      "lsubj071/surf/rh.graymid.H...done.sktop-storage/nyu_retinotopy_data/freesurfer_white2mid/sub-w\n"
     ]
    },
    {
     "name": "stdout",
     "output_type": "stream",
     "text": [
      "sub-wlsubj071:successfully generate white to graymid file!\n",
      "/freesurfer_white2mid/sub-wlsubj076y_data\n"
     ]
    },
    {
     "name": "stderr",
     "output_type": "stream",
     "text": [
      "total integrated curvature = 22.717*4pi (285.473) --> -22 handles\n",
      "ICI = 244.2, FI = 2720.0, variation=41895.722\n",
      "writing Gaussian curvature to /neurodesktop-storage/nyu_retinotopy_data/freesurfer_white2mid/sub-wlsubj076/surf/rh.graymid.K...done.\n",
      "lsubj076/surf/rh.graymid.H...done.sktop-storage/nyu_retinotopy_data/freesurfer_white2mid/sub-w\n"
     ]
    },
    {
     "name": "stdout",
     "output_type": "stream",
     "text": [
      "sub-wlsubj076:successfully generate white to graymid file!\n",
      "/freesurfer_white2mid/sub-wlsubj079y_data\n"
     ]
    },
    {
     "name": "stderr",
     "output_type": "stream",
     "text": [
      "total integrated curvature = 29.473*4pi (370.372) --> -28 handles\n",
      "ICI = 229.9, FI = 2274.0, variation=35835.496\n",
      "writing Gaussian curvature to /neurodesktop-storage/nyu_retinotopy_data/freesurfer_white2mid/sub-wlsubj079/surf/rh.graymid.K...done.\n",
      "lsubj079/surf/rh.graymid.H...done.sktop-storage/nyu_retinotopy_data/freesurfer_white2mid/sub-w\n"
     ]
    },
    {
     "name": "stdout",
     "output_type": "stream",
     "text": [
      "sub-wlsubj079:successfully generate white to graymid file!\n",
      "/freesurfer_white2mid/sub-wlsubj081y_data\n"
     ]
    },
    {
     "name": "stderr",
     "output_type": "stream",
     "text": [
      "total integrated curvature = 23.079*4pi (290.021) --> -22 handles\n",
      "ICI = 204.2, FI = 2107.1, variation=32919.589\n",
      "writing Gaussian curvature to /neurodesktop-storage/nyu_retinotopy_data/freesurfer_white2mid/sub-wlsubj081/surf/rh.graymid.K...done.\n",
      "lsubj081/surf/rh.graymid.H...done.sktop-storage/nyu_retinotopy_data/freesurfer_white2mid/sub-w\n"
     ]
    },
    {
     "name": "stdout",
     "output_type": "stream",
     "text": [
      "sub-wlsubj081:successfully generate white to graymid file!\n",
      "/freesurfer_white2mid/sub-wlsubj083y_data\n"
     ]
    },
    {
     "name": "stderr",
     "output_type": "stream",
     "text": [
      "total integrated curvature = 40.159*4pi (504.649) --> -39 handles\n",
      "ICI = 251.4, FI = 2269.6, variation=36348.901\n",
      "writing Gaussian curvature to /neurodesktop-storage/nyu_retinotopy_data/freesurfer_white2mid/sub-wlsubj083/surf/rh.graymid.K...done.\n",
      "lsubj083/surf/rh.graymid.H...done.sktop-storage/nyu_retinotopy_data/freesurfer_white2mid/sub-w\n"
     ]
    },
    {
     "name": "stdout",
     "output_type": "stream",
     "text": [
      "sub-wlsubj083:successfully generate white to graymid file!\n",
      "/freesurfer_white2mid/sub-wlsubj084y_data\n"
     ]
    },
    {
     "name": "stderr",
     "output_type": "stream",
     "text": [
      "total integrated curvature = 49.020*4pi (616.001) --> -48 handles\n",
      "ICI = 289.2, FI = 2269.2, variation=37614.253\n",
      "writing Gaussian curvature to /neurodesktop-storage/nyu_retinotopy_data/freesurfer_white2mid/sub-wlsubj084/surf/rh.graymid.K...done.\n",
      "lsubj084/surf/rh.graymid.H...done.sktop-storage/nyu_retinotopy_data/freesurfer_white2mid/sub-w\n"
     ]
    },
    {
     "name": "stdout",
     "output_type": "stream",
     "text": [
      "sub-wlsubj084:successfully generate white to graymid file!\n",
      "/freesurfer_white2mid/sub-wlsubj086y_data\n"
     ]
    },
    {
     "name": "stderr",
     "output_type": "stream",
     "text": [
      "total integrated curvature = 26.329*4pi (330.860) --> -25 handles\n",
      "ICI = 224.0, FI = 2252.7, variation=35374.649\n",
      "writing Gaussian curvature to /neurodesktop-storage/nyu_retinotopy_data/freesurfer_white2mid/sub-wlsubj086/surf/rh.graymid.K...done.\n",
      "lsubj086/surf/rh.graymid.H...done.sktop-storage/nyu_retinotopy_data/freesurfer_white2mid/sub-w\n"
     ]
    },
    {
     "name": "stdout",
     "output_type": "stream",
     "text": [
      "sub-wlsubj086:successfully generate white to graymid file!\n",
      "/freesurfer_white2mid/sub-wlsubj088y_data\n"
     ]
    },
    {
     "name": "stderr",
     "output_type": "stream",
     "text": [
      "total integrated curvature = 23.587*4pi (296.400) --> -23 handles\n",
      "ICI = 230.1, FI = 2330.4, variation=36621.927\n",
      "writing Gaussian curvature to /neurodesktop-storage/nyu_retinotopy_data/freesurfer_white2mid/sub-wlsubj088/surf/rh.graymid.K...done.\n",
      "lsubj088/surf/rh.graymid.H...done.sktop-storage/nyu_retinotopy_data/freesurfer_white2mid/sub-w\n"
     ]
    },
    {
     "name": "stdout",
     "output_type": "stream",
     "text": [
      "sub-wlsubj088:successfully generate white to graymid file!\n",
      "/freesurfer_white2mid/sub-wlsubj091y_data\n"
     ]
    },
    {
     "name": "stderr",
     "output_type": "stream",
     "text": [
      "total integrated curvature = 38.248*4pi (480.643) --> -37 handles\n",
      "ICI = 248.9, FI = 2287.1, variation=36526.553\n",
      "writing Gaussian curvature to /neurodesktop-storage/nyu_retinotopy_data/freesurfer_white2mid/sub-wlsubj091/surf/rh.graymid.K...done.\n",
      "lsubj091/surf/rh.graymid.H...done.sktop-storage/nyu_retinotopy_data/freesurfer_white2mid/sub-w\n"
     ]
    },
    {
     "name": "stdout",
     "output_type": "stream",
     "text": [
      "sub-wlsubj091:successfully generate white to graymid file!\n",
      "/freesurfer_white2mid/sub-wlsubj094y_data\n"
     ]
    },
    {
     "name": "stderr",
     "output_type": "stream",
     "text": [
      "total integrated curvature = 37.217*4pi (467.682) --> -36 handles\n",
      "ICI = 294.9, FI = 2738.8, variation=43736.576\n",
      "writing Gaussian curvature to /neurodesktop-storage/nyu_retinotopy_data/freesurfer_white2mid/sub-wlsubj094/surf/rh.graymid.K...done.\n",
      "lsubj094/surf/rh.graymid.H...done.sktop-storage/nyu_retinotopy_data/freesurfer_white2mid/sub-w\n"
     ]
    },
    {
     "name": "stdout",
     "output_type": "stream",
     "text": [
      "sub-wlsubj094:successfully generate white to graymid file!\n",
      "/freesurfer_white2mid/sub-wlsubj095y_data\n"
     ]
    },
    {
     "name": "stderr",
     "output_type": "stream",
     "text": [
      "total integrated curvature = 28.339*4pi (356.115) --> -27 handles\n",
      "ICI = 212.9, FI = 2171.4, variation=33951.946\n",
      "writing Gaussian curvature to /neurodesktop-storage/nyu_retinotopy_data/freesurfer_white2mid/sub-wlsubj095/surf/rh.graymid.K...done.\n",
      "lsubj095/surf/rh.graymid.H...done.sktop-storage/nyu_retinotopy_data/freesurfer_white2mid/sub-w\n"
     ]
    },
    {
     "name": "stdout",
     "output_type": "stream",
     "text": [
      "sub-wlsubj095:successfully generate white to graymid file!\n",
      "/freesurfer_white2mid/sub-wlsubj104y_data\n"
     ]
    },
    {
     "name": "stderr",
     "output_type": "stream",
     "text": [
      "total integrated curvature = 30.985*4pi (389.369) --> -30 handles\n",
      "ICI = 237.9, FI = 2471.9, variation=38477.415\n",
      "writing Gaussian curvature to /neurodesktop-storage/nyu_retinotopy_data/freesurfer_white2mid/sub-wlsubj104/surf/rh.graymid.K...done.\n",
      "lsubj104/surf/rh.graymid.H...done.sktop-storage/nyu_retinotopy_data/freesurfer_white2mid/sub-w\n"
     ]
    },
    {
     "name": "stdout",
     "output_type": "stream",
     "text": [
      "sub-wlsubj104:successfully generate white to graymid file!\n",
      "/freesurfer_white2mid/sub-wlsubj114y_data\n"
     ]
    },
    {
     "name": "stderr",
     "output_type": "stream",
     "text": [
      "total integrated curvature = 38.661*4pi (485.824) --> -38 handles\n",
      "ICI = 295.8, FI = 2781.3, variation=44287.712\n",
      "writing Gaussian curvature to /neurodesktop-storage/nyu_retinotopy_data/freesurfer_white2mid/sub-wlsubj114/surf/rh.graymid.K...done.\n",
      "lsubj114/surf/rh.graymid.H...done.sktop-storage/nyu_retinotopy_data/freesurfer_white2mid/sub-w\n"
     ]
    },
    {
     "name": "stdout",
     "output_type": "stream",
     "text": [
      "sub-wlsubj114:successfully generate white to graymid file!\n",
      "/freesurfer_white2mid/sub-wlsubj115y_data\n"
     ]
    },
    {
     "name": "stderr",
     "output_type": "stream",
     "text": [
      "total integrated curvature = 17.135*4pi (215.330) --> -16 handles\n",
      "ICI = 213.3, FI = 2195.9, variation=34446.722\n",
      "writing Gaussian curvature to /neurodesktop-storage/nyu_retinotopy_data/freesurfer_white2mid/sub-wlsubj115/surf/rh.graymid.K...done.\n",
      "lsubj115/surf/rh.graymid.H...done.sktop-storage/nyu_retinotopy_data/freesurfer_white2mid/sub-w\n"
     ]
    },
    {
     "name": "stdout",
     "output_type": "stream",
     "text": [
      "sub-wlsubj115:successfully generate white to graymid file!\n",
      "/freesurfer_white2mid/sub-wlsubj116y_data\n"
     ]
    },
    {
     "name": "stderr",
     "output_type": "stream",
     "text": [
      "total integrated curvature = 32.083*4pi (403.167) --> -31 handles\n",
      "ICI = 231.4, FI = 2329.0, variation=36503.619\n",
      "writing Gaussian curvature to /neurodesktop-storage/nyu_retinotopy_data/freesurfer_white2mid/sub-wlsubj116/surf/rh.graymid.K...done.\n",
      "lsubj116/surf/rh.graymid.H...done.sktop-storage/nyu_retinotopy_data/freesurfer_white2mid/sub-w\n"
     ]
    },
    {
     "name": "stdout",
     "output_type": "stream",
     "text": [
      "sub-wlsubj116:successfully generate white to graymid file!\n",
      "/freesurfer_white2mid/sub-wlsubj117y_data\n"
     ]
    },
    {
     "name": "stderr",
     "output_type": "stream",
     "text": [
      "total integrated curvature = 26.890*4pi (337.913) --> -26 handles\n",
      "ICI = 228.9, FI = 2258.3, variation=35613.872\n",
      "writing Gaussian curvature to /neurodesktop-storage/nyu_retinotopy_data/freesurfer_white2mid/sub-wlsubj117/surf/rh.graymid.K...done.\n",
      "lsubj117/surf/rh.graymid.H...done.sktop-storage/nyu_retinotopy_data/freesurfer_white2mid/sub-w\n"
     ]
    },
    {
     "name": "stdout",
     "output_type": "stream",
     "text": [
      "sub-wlsubj117:successfully generate white to graymid file!\n",
      "/freesurfer_white2mid/sub-wlsubj118y_data\n"
     ]
    },
    {
     "name": "stderr",
     "output_type": "stream",
     "text": [
      "total integrated curvature = 47.972*4pi (602.835) --> -47 handles\n",
      "ICI = 285.5, FI = 2472.5, variation=39977.963\n",
      "writing Gaussian curvature to /neurodesktop-storage/nyu_retinotopy_data/freesurfer_white2mid/sub-wlsubj118/surf/rh.graymid.K...done.\n",
      "lsubj118/surf/rh.graymid.H...done.sktop-storage/nyu_retinotopy_data/freesurfer_white2mid/sub-w\n"
     ]
    },
    {
     "name": "stdout",
     "output_type": "stream",
     "text": [
      "sub-wlsubj118:successfully generate white to graymid file!\n",
      "/freesurfer_white2mid/sub-wlsubj120y_data\n"
     ]
    },
    {
     "name": "stderr",
     "output_type": "stream",
     "text": [
      "total integrated curvature = 24.022*4pi (301.864) --> -23 handles\n",
      "ICI = 240.7, FI = 2624.6, variation=40593.216\n",
      "writing Gaussian curvature to /neurodesktop-storage/nyu_retinotopy_data/freesurfer_white2mid/sub-wlsubj120/surf/rh.graymid.K...done.\n",
      "lsubj120/surf/rh.graymid.H...done.sktop-storage/nyu_retinotopy_data/freesurfer_white2mid/sub-w\n"
     ]
    },
    {
     "name": "stdout",
     "output_type": "stream",
     "text": [
      "sub-wlsubj120:successfully generate white to graymid file!\n",
      "/freesurfer_white2mid/sub-wlsubj126y_data\n"
     ]
    },
    {
     "name": "stderr",
     "output_type": "stream",
     "text": [
      "total integrated curvature = 22.031*4pi (276.852) --> -21 handles\n",
      "ICI = 210.2, FI = 2270.7, variation=35169.615\n",
      "writing Gaussian curvature to /neurodesktop-storage/nyu_retinotopy_data/freesurfer_white2mid/sub-wlsubj126/surf/rh.graymid.K...done.\n",
      "lsubj126/surf/rh.graymid.H...done.sktop-storage/nyu_retinotopy_data/freesurfer_white2mid/sub-w\n"
     ]
    },
    {
     "name": "stdout",
     "output_type": "stream",
     "text": [
      "sub-wlsubj126:successfully generate white to graymid file!\n"
     ]
    }
   ],
   "source": [
    "%%bash\n",
    "for dir in $sub_path/sub-wlsubj*; do\n",
    "    echo $dir\n",
    "    subject=$(basename \"$dir\")\n",
    "    cp $dir/surf/\"$hemisphere\".white $dir/surf/\"$hemisphere\".graymid\n",
    "    mris_curvature -w $dir/surf/\"$hemisphere\".graymid\n",
    "    echo $subject\":successfully generate white to graymid file!\"\n",
    "done"
   ]
  },
  {
   "cell_type": "markdown",
   "id": "18c15cd9-14b3-44e5-a037-d2591a8c1eb8",
   "metadata": {},
   "source": [
    "## Run deepretinotopy for each freesurfer directory"
   ]
  },
  {
   "cell_type": "code",
   "execution_count": 2,
   "id": "2b2b5c73-28d5-4f67-8aa2-1cba36359196",
   "metadata": {
    "scrolled": true
   },
   "outputs": [
    {
     "name": "stdout",
     "output_type": "stream",
     "text": [
      "--------------------------------------------------------------------------------\n",
      "DeepRetinotopy: retinotopic mapping using deep learning\n",
      "--------------------------------------------------------------------------------\n",
      "Directories and parameters:\n",
      "\n",
      "Path to FreeSurfer directory: /neurodesktop-storage/nyu_retinotopy_data/freesurfer_pial2mid/\n",
      "Path to fs_LR-deformed_to-fsaverage template surfaces: /neurodesktop-storage/HCPpipelines/global/templates/standard_mesh_atlases/resample_fsaverage/\n",
      "Dataset name: nyu\n",
      "Maps: polarAngle eccentricity\n",
      "--------------------------------------------------------------------------------\n",
      "Generating retinotopic maps for the left hemisphere\n",
      "--------------------------------------------------------------------------------\n",
      "[Step 1] Generating mid-thickness surface and curvature data...\n",
      "Hemisphere: lh\n",
      "[Step 1.1] Generating mid-thickness surface and curvature data if not available...\n",
      "Mid-thickness surface and curvature data is already available.\n",
      "[Step 1.2] Preparing native surfaces for resampling if not available...\n",
      "Resampled curvature data is already available.\n",
      "Execution time: 0 minutes\n",
      "[Step 1.1] Generating mid-thickness surface and curvature data if not available...\n",
      "Mid-thickness surface and curvature data is already available.\n",
      "[Step 1.2] Preparing native surfaces for resampling if not available...\n",
      "Resampled curvature data is already available.\n",
      "Execution time: 0 minutes\n",
      "[Step 1.1] Generating mid-thickness surface and curvature data if not available...\n",
      "Mid-thickness surface and curvature data is already available.\n",
      "[Step 1.2] Preparing native surfaces for resampling if not available...\n",
      "Resampled curvature data is already available.\n",
      "Execution time: 0 minutes\n",
      "[Step 1.1] Generating mid-thickness surface and curvature data if not available...\n",
      "Mid-thickness surface and curvature data is already available.\n",
      "[Step 1.2] Preparing native surfaces for resampling if not available...\n",
      "Resampled curvature data is already available.\n",
      "Execution time: 0 minutes\n",
      "[Step 1.1] Generating mid-thickness surface and curvature data if not available...\n",
      "Mid-thickness surface and curvature data is already available.\n",
      "[Step 1.2] Preparing native surfaces for resampling if not available...\n",
      "Resampled curvature data is already available.\n",
      "Execution time: 0 minutes\n",
      "[Step 1.1] Generating mid-thickness surface and curvature data if not available...\n",
      "Mid-thickness surface and curvature data is already available.\n",
      "[Step 1.2] Preparing native surfaces for resampling if not available...\n",
      "Resampled curvature data is already available.\n",
      "Execution time: 0 minutes\n",
      "[Step 1.1] Generating mid-thickness surface and curvature data if not available...\n",
      "Mid-thickness surface and curvature data is already available.\n",
      "[Step 1.2] Preparing native surfaces for resampling if not available...\n",
      "Resampled curvature data is already available.\n",
      "Execution time: 0 minutes\n",
      "[Step 1.1] Generating mid-thickness surface and curvature data if not available...\n",
      "Mid-thickness surface and curvature data is already available.\n",
      "[Step 1.2] Preparing native surfaces for resampling if not available...\n",
      "Resampled curvature data is already available.\n",
      "Execution time: 0 minutes\n",
      "[Step 1.1] Generating mid-thickness surface and curvature data if not available...\n",
      "Mid-thickness surface and curvature data is already available.\n",
      "[Step 1.2] Preparing native surfaces for resampling if not available...\n",
      "Resampled curvature data is already available.\n",
      "Execution time: 0 minutes\n",
      "[Step 1.1] Generating mid-thickness surface and curvature data if not available...\n",
      "Mid-thickness surface and curvature data is already available.\n",
      "[Step 1.2] Preparing native surfaces for resampling if not available...\n",
      "Resampled curvature data is already available.\n",
      "Execution time: 0 minutes\n",
      "[Step 1.1] Generating mid-thickness surface and curvature data if not available...\n",
      "Mid-thickness surface and curvature data is already available.\n",
      "[Step 1.2] Preparing native surfaces for resampling if not available...\n",
      "Resampled curvature data is already available.\n",
      "Execution time: 0 minutes\n",
      "[Step 1.1] Generating mid-thickness surface and curvature data if not available...\n",
      "Mid-thickness surface and curvature data is already available.\n",
      "[Step 1.2] Preparing native surfaces for resampling if not available...\n",
      "Resampled curvature data is already available.\n",
      "Execution time: 0 minutes\n",
      "[Step 1.1] Generating mid-thickness surface and curvature data if not available...\n",
      "Mid-thickness surface and curvature data is already available.\n",
      "[Step 1.2] Preparing native surfaces for resampling if not available...\n",
      "Resampled curvature data is already available.\n",
      "Execution time: 0 minutes\n",
      "[Step 1.1] Generating mid-thickness surface and curvature data if not available...\n",
      "Mid-thickness surface and curvature data is already available.\n",
      "[Step 1.2] Preparing native surfaces for resampling if not available...\n",
      "Resampled curvature data is already available.\n",
      "Execution time: 0 minutes\n",
      "[Step 1.1] Generating mid-thickness surface and curvature data if not available...\n",
      "Mid-thickness surface and curvature data is already available.\n",
      "[Step 1.2] Preparing native surfaces for resampling if not available...\n",
      "Resampled curvature data is already available.\n",
      "Execution time: 0 minutes\n",
      "[Step 1.1] Generating mid-thickness surface and curvature data if not available...\n",
      "Mid-thickness surface and curvature data is already available.\n",
      "[Step 1.2] Preparing native surfaces for resampling if not available...\n",
      "Resampled curvature data is already available.\n",
      "Execution time: 0 minutes\n",
      "[Step 1.1] Generating mid-thickness surface and curvature data if not available...\n",
      "Mid-thickness surface and curvature data is already available.\n",
      "[Step 1.2] Preparing native surfaces for resampling if not available...\n",
      "Resampled curvature data is already available.\n",
      "Execution time: 0 minutes\n",
      "[Step 1.1] Generating mid-thickness surface and curvature data if not available...\n",
      "Mid-thickness surface and curvature data is already available.\n",
      "[Step 1.2] Preparing native surfaces for resampling if not available...\n",
      "Resampled curvature data is already available.\n",
      "Execution time: 0 minutes\n",
      "[Step 1.1] Generating mid-thickness surface and curvature data if not available...\n",
      "Mid-thickness surface and curvature data is already available.\n",
      "[Step 1.2] Preparing native surfaces for resampling if not available...\n",
      "Resampled curvature data is already available.\n",
      "Execution time: 0 minutes\n",
      "[Step 1.1] Generating mid-thickness surface and curvature data if not available...\n",
      "Mid-thickness surface and curvature data is already available.\n",
      "[Step 1.2] Preparing native surfaces for resampling if not available...\n",
      "Resampled curvature data is already available.\n",
      "Execution time: 0 minutes\n",
      "[Step 1.1] Generating mid-thickness surface and curvature data if not available...\n",
      "Mid-thickness surface and curvature data is already available.\n",
      "[Step 1.2] Preparing native surfaces for resampling if not available...\n",
      "Resampled curvature data is already available.\n",
      "Execution time: 0 minutes\n",
      "[Step 1.1] Generating mid-thickness surface and curvature data if not available...\n",
      "Mid-thickness surface and curvature data is already available.\n",
      "[Step 1.2] Preparing native surfaces for resampling if not available...\n",
      "Resampled curvature data is already available.\n",
      "Execution time: 0 minutes\n",
      "[Step 1.1] Generating mid-thickness surface and curvature data if not available...\n",
      "Mid-thickness surface and curvature data is already available.\n",
      "[Step 1.2] Preparing native surfaces for resampling if not available...\n",
      "Resampled curvature data is already available.\n",
      "Execution time: 0 minutes\n",
      "[Step 1.1] Generating mid-thickness surface and curvature data if not available...\n",
      "Mid-thickness surface and curvature data is already available.\n",
      "[Step 1.2] Preparing native surfaces for resampling if not available...\n",
      "Resampled curvature data is already available.\n",
      "Execution time: 0 minutes\n",
      "[Step 1.1] Generating mid-thickness surface and curvature data if not available...\n",
      "Mid-thickness surface and curvature data is already available.\n",
      "[Step 1.2] Preparing native surfaces for resampling if not available...\n",
      "Resampled curvature data is already available.\n",
      "Execution time: 0 minutes\n",
      "[Step 1.1] Generating mid-thickness surface and curvature data if not available...\n",
      "Mid-thickness surface and curvature data is already available.\n",
      "[Step 1.2] Preparing native surfaces for resampling if not available...\n",
      "Resampled curvature data is already available.\n",
      "Execution time: 0 minutes\n",
      "[Step 1.1] Generating mid-thickness surface and curvature data if not available...\n",
      "Mid-thickness surface and curvature data is already available.\n",
      "[Step 1.2] Preparing native surfaces for resampling if not available...\n",
      "Resampled curvature data is already available.\n",
      "Execution time: 0 minutes\n",
      "[Step 1.1] Generating mid-thickness surface and curvature data if not available...\n",
      "Mid-thickness surface and curvature data is already available.\n",
      "[Step 1.2] Preparing native surfaces for resampling if not available...\n",
      "Resampled curvature data is already available.\n",
      "Execution time: 0 minutes\n",
      "[Step 1.1] Generating mid-thickness surface and curvature data if not available...\n",
      "Mid-thickness surface and curvature data is already available.\n",
      "[Step 1.2] Preparing native surfaces for resampling if not available...\n",
      "Resampled curvature data is already available.\n",
      "Execution time: 0 minutes\n",
      "[Step 1.1] Generating mid-thickness surface and curvature data if not available...\n",
      "Mid-thickness surface and curvature data is already available.\n",
      "[Step 1.2] Preparing native surfaces for resampling if not available...\n",
      "Resampled curvature data is already available.\n",
      "Execution time: 0 minutes\n",
      "[Step 1.1] Generating mid-thickness surface and curvature data if not available...\n",
      "Mid-thickness surface and curvature data is already available.\n",
      "[Step 1.2] Preparing native surfaces for resampling if not available...\n",
      "Resampled curvature data is already available.\n",
      "Execution time: 0 minutes\n",
      "--------------------------------------------------------------------------------\n",
      "Map: polarAngle\n",
      "--------------------------------------------------------------------------------\n",
      "[Step 2] Retinotopy prediction...\n",
      "Processing...\n",
      "Done!\n",
      "[Step 2.1] Loading the dataset\n",
      "Dataset loaded\n",
      "Time elapsed: 0.5576805472373962 minutes\n",
      "[Step 2.2] Generating predictions with pre-trained models\n",
      "Loading model 1\n",
      "Saving .gii files in: /neurodesktop-storage/nyu_retinotopy_data/freesurfer_pial2mid/sub-wlsubj001/deepRetinotopy/\n",
      "Saving .gii files in: /neurodesktop-storage/nyu_retinotopy_data/freesurfer_pial2mid/sub-wlsubj006/deepRetinotopy/\n",
      "Saving .gii files in: /neurodesktop-storage/nyu_retinotopy_data/freesurfer_pial2mid/sub-wlsubj007/deepRetinotopy/\n",
      "Saving .gii files in: /neurodesktop-storage/nyu_retinotopy_data/freesurfer_pial2mid/sub-wlsubj014/deepRetinotopy/\n",
      "Saving .gii files in: /neurodesktop-storage/nyu_retinotopy_data/freesurfer_pial2mid/sub-wlsubj019/deepRetinotopy/\n",
      "Saving .gii files in: /neurodesktop-storage/nyu_retinotopy_data/freesurfer_pial2mid/sub-wlsubj023/deepRetinotopy/\n",
      "Saving .gii files in: /neurodesktop-storage/nyu_retinotopy_data/freesurfer_pial2mid/sub-wlsubj042/deepRetinotopy/\n",
      "Saving .gii files in: /neurodesktop-storage/nyu_retinotopy_data/freesurfer_pial2mid/sub-wlsubj045/deepRetinotopy/\n",
      "Saving .gii files in: /neurodesktop-storage/nyu_retinotopy_data/freesurfer_pial2mid/sub-wlsubj055/deepRetinotopy/\n",
      "Saving .gii files in: /neurodesktop-storage/nyu_retinotopy_data/freesurfer_pial2mid/sub-wlsubj056/deepRetinotopy/\n",
      "Saving .gii files in: /neurodesktop-storage/nyu_retinotopy_data/freesurfer_pial2mid/sub-wlsubj057/deepRetinotopy/\n",
      "Saving .gii files in: /neurodesktop-storage/nyu_retinotopy_data/freesurfer_pial2mid/sub-wlsubj062/deepRetinotopy/\n",
      "Saving .gii files in: /neurodesktop-storage/nyu_retinotopy_data/freesurfer_pial2mid/sub-wlsubj071/deepRetinotopy/\n",
      "Saving .gii files in: /neurodesktop-storage/nyu_retinotopy_data/freesurfer_pial2mid/sub-wlsubj076/deepRetinotopy/\n",
      "Saving .gii files in: /neurodesktop-storage/nyu_retinotopy_data/freesurfer_pial2mid/sub-wlsubj079/deepRetinotopy/\n",
      "Saving .gii files in: /neurodesktop-storage/nyu_retinotopy_data/freesurfer_pial2mid/sub-wlsubj081/deepRetinotopy/\n",
      "Saving .gii files in: /neurodesktop-storage/nyu_retinotopy_data/freesurfer_pial2mid/sub-wlsubj083/deepRetinotopy/\n",
      "Saving .gii files in: /neurodesktop-storage/nyu_retinotopy_data/freesurfer_pial2mid/sub-wlsubj084/deepRetinotopy/\n",
      "Saving .gii files in: /neurodesktop-storage/nyu_retinotopy_data/freesurfer_pial2mid/sub-wlsubj086/deepRetinotopy/\n",
      "Saving .gii files in: /neurodesktop-storage/nyu_retinotopy_data/freesurfer_pial2mid/sub-wlsubj088/deepRetinotopy/\n",
      "Saving .gii files in: /neurodesktop-storage/nyu_retinotopy_data/freesurfer_pial2mid/sub-wlsubj091/deepRetinotopy/\n",
      "Saving .gii files in: /neurodesktop-storage/nyu_retinotopy_data/freesurfer_pial2mid/sub-wlsubj094/deepRetinotopy/\n",
      "Saving .gii files in: /neurodesktop-storage/nyu_retinotopy_data/freesurfer_pial2mid/sub-wlsubj095/deepRetinotopy/\n",
      "Saving .gii files in: /neurodesktop-storage/nyu_retinotopy_data/freesurfer_pial2mid/sub-wlsubj104/deepRetinotopy/\n",
      "Saving .gii files in: /neurodesktop-storage/nyu_retinotopy_data/freesurfer_pial2mid/sub-wlsubj114/deepRetinotopy/\n",
      "Saving .gii files in: /neurodesktop-storage/nyu_retinotopy_data/freesurfer_pial2mid/sub-wlsubj115/deepRetinotopy/\n",
      "Saving .gii files in: /neurodesktop-storage/nyu_retinotopy_data/freesurfer_pial2mid/sub-wlsubj116/deepRetinotopy/\n",
      "Saving .gii files in: /neurodesktop-storage/nyu_retinotopy_data/freesurfer_pial2mid/sub-wlsubj117/deepRetinotopy/\n",
      "Saving .gii files in: /neurodesktop-storage/nyu_retinotopy_data/freesurfer_pial2mid/sub-wlsubj118/deepRetinotopy/\n",
      "Saving .gii files in: /neurodesktop-storage/nyu_retinotopy_data/freesurfer_pial2mid/sub-wlsubj120/deepRetinotopy/\n",
      "Saving .gii files in: /neurodesktop-storage/nyu_retinotopy_data/freesurfer_pial2mid/sub-wlsubj126/deepRetinotopy/\n",
      "Predictions from model 1 were saved\n",
      "Time elapsed: 16.255507346242666 minutes\n",
      "--------------------------------------------------------------------------------\n",
      "[Step 3] Resampling predictions to native space...\n",
      "Model: model\n",
      "Transforming polar angle map of the left hemisphere...\n",
      "Transforming polar angle map of the left hemisphere...\n",
      "Transforming polar angle map of the left hemisphere...\n",
      "Transforming polar angle map of the left hemisphere...\n",
      "Transforming polar angle map of the left hemisphere...\n",
      "Transforming polar angle map of the left hemisphere...\n",
      "Transforming polar angle map of the left hemisphere...\n",
      "Transforming polar angle map of the left hemisphere...\n",
      "Transforming polar angle map of the left hemisphere...\n",
      "Transforming polar angle map of the left hemisphere...\n",
      "Transforming polar angle map of the left hemisphere...\n",
      "Transforming polar angle map of the left hemisphere...\n",
      "Transforming polar angle map of the left hemisphere...\n",
      "Transforming polar angle map of the left hemisphere...\n",
      "Transforming polar angle map of the left hemisphere...\n",
      "Transforming polar angle map of the left hemisphere...\n",
      "Transforming polar angle map of the left hemisphere...\n",
      "Transforming polar angle map of the left hemisphere...\n",
      "Transforming polar angle map of the left hemisphere...\n",
      "Transforming polar angle map of the left hemisphere...\n",
      "Transforming polar angle map of the left hemisphere...\n",
      "Transforming polar angle map of the left hemisphere...\n",
      "Transforming polar angle map of the left hemisphere...\n",
      "Transforming polar angle map of the left hemisphere...\n",
      "Transforming polar angle map of the left hemisphere...\n",
      "Transforming polar angle map of the left hemisphere...\n",
      "Transforming polar angle map of the left hemisphere...\n",
      "Transforming polar angle map of the left hemisphere...\n",
      "Transforming polar angle map of the left hemisphere...\n",
      "Transforming polar angle map of the left hemisphere...\n",
      "Transforming polar angle map of the left hemisphere...\n",
      "polarAngle predictions resampling for lh is done!\n",
      "--------------------------------------------------------------------------------\n",
      "--------------------------------------------------------------------------------\n",
      "Map: eccentricity\n",
      "--------------------------------------------------------------------------------\n",
      "[Step 2] Retinotopy prediction...\n",
      "Processing...\n",
      "Done!\n",
      "[Step 2.1] Loading the dataset\n",
      "Dataset loaded\n",
      "Time elapsed: 0.3204316720366478 minutes\n",
      "[Step 2.2] Generating predictions with pre-trained models\n",
      "Loading model 1\n",
      "Saving .gii files in: /neurodesktop-storage/nyu_retinotopy_data/freesurfer_pial2mid/sub-wlsubj001/deepRetinotopy/\n",
      "Saving .gii files in: /neurodesktop-storage/nyu_retinotopy_data/freesurfer_pial2mid/sub-wlsubj006/deepRetinotopy/\n",
      "Saving .gii files in: /neurodesktop-storage/nyu_retinotopy_data/freesurfer_pial2mid/sub-wlsubj007/deepRetinotopy/\n",
      "Saving .gii files in: /neurodesktop-storage/nyu_retinotopy_data/freesurfer_pial2mid/sub-wlsubj014/deepRetinotopy/\n",
      "Saving .gii files in: /neurodesktop-storage/nyu_retinotopy_data/freesurfer_pial2mid/sub-wlsubj019/deepRetinotopy/\n",
      "Saving .gii files in: /neurodesktop-storage/nyu_retinotopy_data/freesurfer_pial2mid/sub-wlsubj023/deepRetinotopy/\n",
      "Saving .gii files in: /neurodesktop-storage/nyu_retinotopy_data/freesurfer_pial2mid/sub-wlsubj042/deepRetinotopy/\n",
      "Saving .gii files in: /neurodesktop-storage/nyu_retinotopy_data/freesurfer_pial2mid/sub-wlsubj045/deepRetinotopy/\n",
      "Saving .gii files in: /neurodesktop-storage/nyu_retinotopy_data/freesurfer_pial2mid/sub-wlsubj055/deepRetinotopy/\n",
      "Saving .gii files in: /neurodesktop-storage/nyu_retinotopy_data/freesurfer_pial2mid/sub-wlsubj056/deepRetinotopy/\n",
      "Saving .gii files in: /neurodesktop-storage/nyu_retinotopy_data/freesurfer_pial2mid/sub-wlsubj057/deepRetinotopy/\n",
      "Saving .gii files in: /neurodesktop-storage/nyu_retinotopy_data/freesurfer_pial2mid/sub-wlsubj062/deepRetinotopy/\n",
      "Saving .gii files in: /neurodesktop-storage/nyu_retinotopy_data/freesurfer_pial2mid/sub-wlsubj071/deepRetinotopy/\n",
      "Saving .gii files in: /neurodesktop-storage/nyu_retinotopy_data/freesurfer_pial2mid/sub-wlsubj076/deepRetinotopy/\n",
      "Saving .gii files in: /neurodesktop-storage/nyu_retinotopy_data/freesurfer_pial2mid/sub-wlsubj079/deepRetinotopy/\n",
      "Saving .gii files in: /neurodesktop-storage/nyu_retinotopy_data/freesurfer_pial2mid/sub-wlsubj081/deepRetinotopy/\n",
      "Saving .gii files in: /neurodesktop-storage/nyu_retinotopy_data/freesurfer_pial2mid/sub-wlsubj083/deepRetinotopy/\n",
      "Saving .gii files in: /neurodesktop-storage/nyu_retinotopy_data/freesurfer_pial2mid/sub-wlsubj084/deepRetinotopy/\n",
      "Saving .gii files in: /neurodesktop-storage/nyu_retinotopy_data/freesurfer_pial2mid/sub-wlsubj086/deepRetinotopy/\n",
      "Saving .gii files in: /neurodesktop-storage/nyu_retinotopy_data/freesurfer_pial2mid/sub-wlsubj088/deepRetinotopy/\n",
      "Saving .gii files in: /neurodesktop-storage/nyu_retinotopy_data/freesurfer_pial2mid/sub-wlsubj091/deepRetinotopy/\n",
      "Saving .gii files in: /neurodesktop-storage/nyu_retinotopy_data/freesurfer_pial2mid/sub-wlsubj094/deepRetinotopy/\n",
      "Saving .gii files in: /neurodesktop-storage/nyu_retinotopy_data/freesurfer_pial2mid/sub-wlsubj095/deepRetinotopy/\n",
      "Saving .gii files in: /neurodesktop-storage/nyu_retinotopy_data/freesurfer_pial2mid/sub-wlsubj104/deepRetinotopy/\n",
      "Saving .gii files in: /neurodesktop-storage/nyu_retinotopy_data/freesurfer_pial2mid/sub-wlsubj114/deepRetinotopy/\n",
      "Saving .gii files in: /neurodesktop-storage/nyu_retinotopy_data/freesurfer_pial2mid/sub-wlsubj115/deepRetinotopy/\n",
      "Saving .gii files in: /neurodesktop-storage/nyu_retinotopy_data/freesurfer_pial2mid/sub-wlsubj116/deepRetinotopy/\n",
      "Saving .gii files in: /neurodesktop-storage/nyu_retinotopy_data/freesurfer_pial2mid/sub-wlsubj117/deepRetinotopy/\n",
      "Saving .gii files in: /neurodesktop-storage/nyu_retinotopy_data/freesurfer_pial2mid/sub-wlsubj118/deepRetinotopy/\n",
      "Saving .gii files in: /neurodesktop-storage/nyu_retinotopy_data/freesurfer_pial2mid/sub-wlsubj120/deepRetinotopy/\n",
      "Saving .gii files in: /neurodesktop-storage/nyu_retinotopy_data/freesurfer_pial2mid/sub-wlsubj126/deepRetinotopy/\n",
      "Predictions from model 1 were saved\n",
      "Time elapsed: 15.55994051322341 minutes\n",
      "--------------------------------------------------------------------------------\n",
      "[Step 3] Resampling predictions to native space...\n",
      "Model: model\n",
      "eccentricity predictions resampling for lh is done!\n",
      "--------------------------------------------------------------------------------\n",
      "Generating retinotopic maps for the right hemisphere\n",
      "--------------------------------------------------------------------------------\n",
      "[Step 1] Generating mid-thickness surface and curvature data...\n",
      "Hemisphere: rh\n",
      "[Step 1.1] Generating mid-thickness surface and curvature data if not available...\n",
      "Mid-thickness surface and curvature data is already available.\n",
      "[Step 1.2] Preparing native surfaces for resampling if not available...\n",
      "Saving sub-wlsubj001/surf/rh.midthickness.surf.gii.temp53339.white.surf.gii as a surface\n",
      "Saving sub-wlsubj001/surf/rh.midthickness.surf.gii.temp53339.pial.surf.gii as a surface\n",
      "Saving sub-wlsubj001/surf/rh.sphere.reg.surf.gii as a surface\n",
      "Resampling native data to fsaverage space...\n",
      "Data resampling is complete.\n",
      "Execution time: 0 minutes\n",
      "[Step 1.1] Generating mid-thickness surface and curvature data if not available...\n",
      "Mid-thickness surface and curvature data is already available.\n",
      "[Step 1.2] Preparing native surfaces for resampling if not available...\n",
      "Saving sub-wlsubj006/surf/rh.midthickness.surf.gii.temp53608.white.surf.gii as a surface\n",
      "Saving sub-wlsubj006/surf/rh.midthickness.surf.gii.temp53608.pial.surf.gii as a surface\n",
      "Saving sub-wlsubj006/surf/rh.sphere.reg.surf.gii as a surface\n",
      "Resampling native data to fsaverage space...\n",
      "Data resampling is complete.\n",
      "Execution time: 0 minutes\n",
      "[Step 1.1] Generating mid-thickness surface and curvature data if not available...\n",
      "Mid-thickness surface and curvature data is already available.\n",
      "[Step 1.2] Preparing native surfaces for resampling if not available...\n",
      "Saving sub-wlsubj007/surf/rh.midthickness.surf.gii.temp53787.white.surf.gii as a surface\n",
      "Saving sub-wlsubj007/surf/rh.midthickness.surf.gii.temp53787.pial.surf.gii as a surface\n",
      "Saving sub-wlsubj007/surf/rh.sphere.reg.surf.gii as a surface\n",
      "Resampling native data to fsaverage space...\n",
      "Data resampling is complete.\n",
      "Execution time: 0 minutes\n",
      "[Step 1.1] Generating mid-thickness surface and curvature data if not available...\n",
      "Mid-thickness surface and curvature data is already available.\n",
      "[Step 1.2] Preparing native surfaces for resampling if not available...\n",
      "Saving sub-wlsubj014/surf/rh.midthickness.surf.gii.temp53975.white.surf.gii as a surface\n",
      "Saving sub-wlsubj014/surf/rh.midthickness.surf.gii.temp53975.pial.surf.gii as a surface\n",
      "Saving sub-wlsubj014/surf/rh.sphere.reg.surf.gii as a surface\n",
      "Resampling native data to fsaverage space...\n",
      "Data resampling is complete.\n",
      "Execution time: 0 minutes\n",
      "[Step 1.1] Generating mid-thickness surface and curvature data if not available...\n",
      "Mid-thickness surface and curvature data is already available.\n",
      "[Step 1.2] Preparing native surfaces for resampling if not available...\n",
      "Saving sub-wlsubj019/surf/rh.midthickness.surf.gii.temp54130.white.surf.gii as a surface\n",
      "Saving sub-wlsubj019/surf/rh.midthickness.surf.gii.temp54130.pial.surf.gii as a surface\n",
      "Saving sub-wlsubj019/surf/rh.sphere.reg.surf.gii as a surface\n",
      "Resampling native data to fsaverage space...\n",
      "Data resampling is complete.\n",
      "Execution time: 0 minutes\n",
      "[Step 1.1] Generating mid-thickness surface and curvature data if not available...\n",
      "Mid-thickness surface and curvature data is already available.\n",
      "[Step 1.2] Preparing native surfaces for resampling if not available...\n",
      "Saving sub-wlsubj023/surf/rh.midthickness.surf.gii.temp54330.white.surf.gii as a surface\n",
      "Saving sub-wlsubj023/surf/rh.midthickness.surf.gii.temp54330.pial.surf.gii as a surface\n",
      "Saving sub-wlsubj023/surf/rh.sphere.reg.surf.gii as a surface\n",
      "Resampling native data to fsaverage space...\n",
      "Data resampling is complete.\n",
      "Execution time: 0 minutes\n",
      "[Step 1.1] Generating mid-thickness surface and curvature data if not available...\n",
      "Mid-thickness surface and curvature data is already available.\n",
      "[Step 1.2] Preparing native surfaces for resampling if not available...\n",
      "Saving sub-wlsubj042/surf/rh.midthickness.surf.gii.temp54489.white.surf.gii as a surface\n",
      "Saving sub-wlsubj042/surf/rh.midthickness.surf.gii.temp54489.pial.surf.gii as a surface\n",
      "Saving sub-wlsubj042/surf/rh.sphere.reg.surf.gii as a surface\n",
      "Resampling native data to fsaverage space...\n",
      "Data resampling is complete.\n",
      "Execution time: 0 minutes\n",
      "[Step 1.1] Generating mid-thickness surface and curvature data if not available...\n",
      "Mid-thickness surface and curvature data is already available.\n",
      "[Step 1.2] Preparing native surfaces for resampling if not available...\n",
      "Saving sub-wlsubj045/surf/rh.midthickness.surf.gii.temp54686.white.surf.gii as a surface\n",
      "Saving sub-wlsubj045/surf/rh.midthickness.surf.gii.temp54686.pial.surf.gii as a surface\n",
      "Saving sub-wlsubj045/surf/rh.sphere.reg.surf.gii as a surface\n",
      "Resampling native data to fsaverage space...\n",
      "Data resampling is complete.\n",
      "Execution time: 0 minutes\n",
      "[Step 1.1] Generating mid-thickness surface and curvature data if not available...\n",
      "Mid-thickness surface and curvature data is already available.\n",
      "[Step 1.2] Preparing native surfaces for resampling if not available...\n",
      "Saving sub-wlsubj055/surf/rh.midthickness.surf.gii.temp54885.white.surf.gii as a surface\n",
      "Saving sub-wlsubj055/surf/rh.midthickness.surf.gii.temp54885.pial.surf.gii as a surface\n",
      "Saving sub-wlsubj055/surf/rh.sphere.reg.surf.gii as a surface\n",
      "Resampling native data to fsaverage space...\n",
      "Data resampling is complete.\n",
      "Execution time: 0 minutes\n",
      "[Step 1.1] Generating mid-thickness surface and curvature data if not available...\n",
      "Mid-thickness surface and curvature data is already available.\n",
      "[Step 1.2] Preparing native surfaces for resampling if not available...\n",
      "Saving sub-wlsubj056/surf/rh.midthickness.surf.gii.temp55082.white.surf.gii as a surface\n",
      "Saving sub-wlsubj056/surf/rh.midthickness.surf.gii.temp55082.pial.surf.gii as a surface\n",
      "Saving sub-wlsubj056/surf/rh.sphere.reg.surf.gii as a surface\n",
      "Resampling native data to fsaverage space...\n",
      "Data resampling is complete.\n",
      "Execution time: 0 minutes\n",
      "[Step 1.1] Generating mid-thickness surface and curvature data if not available...\n",
      "Mid-thickness surface and curvature data is already available.\n",
      "[Step 1.2] Preparing native surfaces for resampling if not available...\n",
      "Saving sub-wlsubj057/surf/rh.midthickness.surf.gii.temp55331.white.surf.gii as a surface\n",
      "Saving sub-wlsubj057/surf/rh.midthickness.surf.gii.temp55331.pial.surf.gii as a surface\n",
      "Saving sub-wlsubj057/surf/rh.sphere.reg.surf.gii as a surface\n",
      "Resampling native data to fsaverage space...\n",
      "Data resampling is complete.\n",
      "Execution time: 0 minutes\n",
      "[Step 1.1] Generating mid-thickness surface and curvature data if not available...\n",
      "Mid-thickness surface and curvature data is already available.\n",
      "[Step 1.2] Preparing native surfaces for resampling if not available...\n",
      "Saving sub-wlsubj062/surf/rh.midthickness.surf.gii.temp55524.white.surf.gii as a surface\n",
      "Saving sub-wlsubj062/surf/rh.midthickness.surf.gii.temp55524.pial.surf.gii as a surface\n",
      "Saving sub-wlsubj062/surf/rh.sphere.reg.surf.gii as a surface\n",
      "Resampling native data to fsaverage space...\n",
      "Data resampling is complete.\n",
      "Execution time: 0 minutes\n",
      "[Step 1.1] Generating mid-thickness surface and curvature data if not available...\n",
      "Mid-thickness surface and curvature data is already available.\n",
      "[Step 1.2] Preparing native surfaces for resampling if not available...\n",
      "Saving sub-wlsubj071/surf/rh.midthickness.surf.gii.temp55708.white.surf.gii as a surface\n",
      "Saving sub-wlsubj071/surf/rh.midthickness.surf.gii.temp55708.pial.surf.gii as a surface\n",
      "Saving sub-wlsubj071/surf/rh.sphere.reg.surf.gii as a surface\n",
      "Resampling native data to fsaverage space...\n",
      "Data resampling is complete.\n",
      "Execution time: 0 minutes\n",
      "[Step 1.1] Generating mid-thickness surface and curvature data if not available...\n",
      "Mid-thickness surface and curvature data is already available.\n",
      "[Step 1.2] Preparing native surfaces for resampling if not available...\n",
      "Saving sub-wlsubj076/surf/rh.midthickness.surf.gii.temp55902.white.surf.gii as a surface\n",
      "Saving sub-wlsubj076/surf/rh.midthickness.surf.gii.temp55902.pial.surf.gii as a surface\n",
      "Saving sub-wlsubj076/surf/rh.sphere.reg.surf.gii as a surface\n",
      "Resampling native data to fsaverage space...\n",
      "Data resampling is complete.\n",
      "Execution time: 0 minutes\n",
      "[Step 1.1] Generating mid-thickness surface and curvature data if not available...\n",
      "Mid-thickness surface and curvature data is already available.\n",
      "[Step 1.2] Preparing native surfaces for resampling if not available...\n",
      "Saving sub-wlsubj079/surf/rh.midthickness.surf.gii.temp56100.white.surf.gii as a surface\n",
      "Saving sub-wlsubj079/surf/rh.midthickness.surf.gii.temp56100.pial.surf.gii as a surface\n",
      "Saving sub-wlsubj079/surf/rh.sphere.reg.surf.gii as a surface\n",
      "Resampling native data to fsaverage space...\n",
      "Data resampling is complete.\n",
      "Execution time: 0 minutes\n",
      "[Step 1.1] Generating mid-thickness surface and curvature data if not available...\n",
      "Mid-thickness surface and curvature data is already available.\n",
      "[Step 1.2] Preparing native surfaces for resampling if not available...\n",
      "Saving sub-wlsubj081/surf/rh.midthickness.surf.gii.temp56284.white.surf.gii as a surface\n",
      "Saving sub-wlsubj081/surf/rh.midthickness.surf.gii.temp56284.pial.surf.gii as a surface\n",
      "Saving sub-wlsubj081/surf/rh.sphere.reg.surf.gii as a surface\n",
      "Resampling native data to fsaverage space...\n",
      "Data resampling is complete.\n",
      "Execution time: 0 minutes\n",
      "[Step 1.1] Generating mid-thickness surface and curvature data if not available...\n",
      "Mid-thickness surface and curvature data is already available.\n",
      "[Step 1.2] Preparing native surfaces for resampling if not available...\n",
      "Saving sub-wlsubj083/surf/rh.midthickness.surf.gii.temp56463.white.surf.gii as a surface\n",
      "Saving sub-wlsubj083/surf/rh.midthickness.surf.gii.temp56463.pial.surf.gii as a surface\n",
      "Saving sub-wlsubj083/surf/rh.sphere.reg.surf.gii as a surface\n",
      "Resampling native data to fsaverage space...\n",
      "Data resampling is complete.\n",
      "Execution time: 0 minutes\n",
      "[Step 1.1] Generating mid-thickness surface and curvature data if not available...\n",
      "Mid-thickness surface and curvature data is already available.\n",
      "[Step 1.2] Preparing native surfaces for resampling if not available...\n",
      "Saving sub-wlsubj084/surf/rh.midthickness.surf.gii.temp56647.white.surf.gii as a surface\n",
      "Saving sub-wlsubj084/surf/rh.midthickness.surf.gii.temp56647.pial.surf.gii as a surface\n",
      "Saving sub-wlsubj084/surf/rh.sphere.reg.surf.gii as a surface\n",
      "Resampling native data to fsaverage space...\n",
      "Data resampling is complete.\n",
      "Execution time: 0 minutes\n",
      "[Step 1.1] Generating mid-thickness surface and curvature data if not available...\n",
      "Mid-thickness surface and curvature data is already available.\n",
      "[Step 1.2] Preparing native surfaces for resampling if not available...\n",
      "Saving sub-wlsubj086/surf/rh.midthickness.surf.gii.temp56828.white.surf.gii as a surface\n",
      "Saving sub-wlsubj086/surf/rh.midthickness.surf.gii.temp56828.pial.surf.gii as a surface\n",
      "Saving sub-wlsubj086/surf/rh.sphere.reg.surf.gii as a surface\n",
      "Resampling native data to fsaverage space...\n",
      "Data resampling is complete.\n",
      "Execution time: 0 minutes\n",
      "[Step 1.1] Generating mid-thickness surface and curvature data if not available...\n",
      "Mid-thickness surface and curvature data is already available.\n",
      "[Step 1.2] Preparing native surfaces for resampling if not available...\n",
      "Saving sub-wlsubj088/surf/rh.midthickness.surf.gii.temp57021.white.surf.gii as a surface\n",
      "Saving sub-wlsubj088/surf/rh.midthickness.surf.gii.temp57021.pial.surf.gii as a surface\n",
      "Saving sub-wlsubj088/surf/rh.sphere.reg.surf.gii as a surface\n",
      "Resampling native data to fsaverage space...\n",
      "Data resampling is complete.\n",
      "Execution time: 0 minutes\n",
      "[Step 1.1] Generating mid-thickness surface and curvature data if not available...\n",
      "Mid-thickness surface and curvature data is already available.\n",
      "[Step 1.2] Preparing native surfaces for resampling if not available...\n",
      "Saving sub-wlsubj091/surf/rh.midthickness.surf.gii.temp57210.white.surf.gii as a surface\n",
      "Saving sub-wlsubj091/surf/rh.midthickness.surf.gii.temp57210.pial.surf.gii as a surface\n",
      "Saving sub-wlsubj091/surf/rh.sphere.reg.surf.gii as a surface\n",
      "Resampling native data to fsaverage space...\n",
      "Data resampling is complete.\n",
      "Execution time: 0 minutes\n",
      "[Step 1.1] Generating mid-thickness surface and curvature data if not available...\n",
      "Mid-thickness surface and curvature data is already available.\n",
      "[Step 1.2] Preparing native surfaces for resampling if not available...\n",
      "Saving sub-wlsubj094/surf/rh.midthickness.surf.gii.temp57389.white.surf.gii as a surface\n",
      "Saving sub-wlsubj094/surf/rh.midthickness.surf.gii.temp57389.pial.surf.gii as a surface\n",
      "Saving sub-wlsubj094/surf/rh.sphere.reg.surf.gii as a surface\n",
      "Resampling native data to fsaverage space...\n",
      "Data resampling is complete.\n",
      "Execution time: 0 minutes\n",
      "[Step 1.1] Generating mid-thickness surface and curvature data if not available...\n",
      "Mid-thickness surface and curvature data is already available.\n",
      "[Step 1.2] Preparing native surfaces for resampling if not available...\n",
      "Saving sub-wlsubj095/surf/rh.midthickness.surf.gii.temp57597.white.surf.gii as a surface\n",
      "Saving sub-wlsubj095/surf/rh.midthickness.surf.gii.temp57597.pial.surf.gii as a surface\n",
      "Saving sub-wlsubj095/surf/rh.sphere.reg.surf.gii as a surface\n",
      "Resampling native data to fsaverage space...\n",
      "Data resampling is complete.\n",
      "Execution time: 0 minutes\n",
      "[Step 1.1] Generating mid-thickness surface and curvature data if not available...\n",
      "Mid-thickness surface and curvature data is already available.\n",
      "[Step 1.2] Preparing native surfaces for resampling if not available...\n",
      "Saving sub-wlsubj104/surf/rh.midthickness.surf.gii.temp57780.white.surf.gii as a surface\n",
      "Saving sub-wlsubj104/surf/rh.midthickness.surf.gii.temp57780.pial.surf.gii as a surface\n",
      "Saving sub-wlsubj104/surf/rh.sphere.reg.surf.gii as a surface\n",
      "Resampling native data to fsaverage space...\n",
      "Data resampling is complete.\n",
      "Execution time: 0 minutes\n",
      "[Step 1.1] Generating mid-thickness surface and curvature data if not available...\n",
      "Mid-thickness surface and curvature data is already available.\n",
      "[Step 1.2] Preparing native surfaces for resampling if not available...\n",
      "Saving sub-wlsubj114/surf/rh.midthickness.surf.gii.temp57963.white.surf.gii as a surface\n",
      "Saving sub-wlsubj114/surf/rh.midthickness.surf.gii.temp57963.pial.surf.gii as a surface\n",
      "Saving sub-wlsubj114/surf/rh.sphere.reg.surf.gii as a surface\n",
      "Resampling native data to fsaverage space...\n",
      "Data resampling is complete.\n",
      "Execution time: 0 minutes\n",
      "[Step 1.1] Generating mid-thickness surface and curvature data if not available...\n",
      "Mid-thickness surface and curvature data is already available.\n",
      "[Step 1.2] Preparing native surfaces for resampling if not available...\n",
      "Saving sub-wlsubj115/surf/rh.midthickness.surf.gii.temp58172.white.surf.gii as a surface\n",
      "Saving sub-wlsubj115/surf/rh.midthickness.surf.gii.temp58172.pial.surf.gii as a surface\n",
      "Saving sub-wlsubj115/surf/rh.sphere.reg.surf.gii as a surface\n",
      "Resampling native data to fsaverage space...\n",
      "Data resampling is complete.\n",
      "Execution time: 0 minutes\n",
      "[Step 1.1] Generating mid-thickness surface and curvature data if not available...\n",
      "Mid-thickness surface and curvature data is already available.\n",
      "[Step 1.2] Preparing native surfaces for resampling if not available...\n",
      "Saving sub-wlsubj116/surf/rh.midthickness.surf.gii.temp58399.white.surf.gii as a surface\n",
      "Saving sub-wlsubj116/surf/rh.midthickness.surf.gii.temp58399.pial.surf.gii as a surface\n",
      "Saving sub-wlsubj116/surf/rh.sphere.reg.surf.gii as a surface\n",
      "Resampling native data to fsaverage space...\n",
      "Data resampling is complete.\n",
      "Execution time: 0 minutes\n",
      "[Step 1.1] Generating mid-thickness surface and curvature data if not available...\n",
      "Mid-thickness surface and curvature data is already available.\n",
      "[Step 1.2] Preparing native surfaces for resampling if not available...\n",
      "Saving sub-wlsubj117/surf/rh.midthickness.surf.gii.temp58589.white.surf.gii as a surface\n",
      "Saving sub-wlsubj117/surf/rh.midthickness.surf.gii.temp58589.pial.surf.gii as a surface\n",
      "Saving sub-wlsubj117/surf/rh.sphere.reg.surf.gii as a surface\n",
      "Resampling native data to fsaverage space...\n",
      "Data resampling is complete.\n",
      "Execution time: 0 minutes\n",
      "[Step 1.1] Generating mid-thickness surface and curvature data if not available...\n",
      "Mid-thickness surface and curvature data is already available.\n",
      "[Step 1.2] Preparing native surfaces for resampling if not available...\n",
      "Saving sub-wlsubj118/surf/rh.midthickness.surf.gii.temp58771.white.surf.gii as a surface\n",
      "Saving sub-wlsubj118/surf/rh.midthickness.surf.gii.temp58771.pial.surf.gii as a surface\n",
      "Saving sub-wlsubj118/surf/rh.sphere.reg.surf.gii as a surface\n",
      "Resampling native data to fsaverage space...\n",
      "Data resampling is complete.\n",
      "Execution time: 0 minutes\n",
      "[Step 1.1] Generating mid-thickness surface and curvature data if not available...\n",
      "Mid-thickness surface and curvature data is already available.\n",
      "[Step 1.2] Preparing native surfaces for resampling if not available...\n",
      "Saving sub-wlsubj120/surf/rh.midthickness.surf.gii.temp58999.white.surf.gii as a surface\n",
      "Saving sub-wlsubj120/surf/rh.midthickness.surf.gii.temp58999.pial.surf.gii as a surface\n",
      "Saving sub-wlsubj120/surf/rh.sphere.reg.surf.gii as a surface\n",
      "Resampling native data to fsaverage space...\n",
      "Data resampling is complete.\n",
      "Execution time: 0 minutes\n",
      "[Step 1.1] Generating mid-thickness surface and curvature data if not available...\n",
      "Mid-thickness surface and curvature data is already available.\n",
      "[Step 1.2] Preparing native surfaces for resampling if not available...\n",
      "Saving sub-wlsubj126/surf/rh.midthickness.surf.gii.temp59195.white.surf.gii as a surface\n",
      "Saving sub-wlsubj126/surf/rh.midthickness.surf.gii.temp59195.pial.surf.gii as a surface\n",
      "Saving sub-wlsubj126/surf/rh.sphere.reg.surf.gii as a surface\n",
      "Resampling native data to fsaverage space...\n",
      "Data resampling is complete.\n",
      "Execution time: 0 minutes\n",
      "--------------------------------------------------------------------------------\n",
      "Map: polarAngle\n",
      "--------------------------------------------------------------------------------\n",
      "[Step 2] Retinotopy prediction...\n",
      "Processing...\n",
      "Done!\n",
      "[Step 2.1] Loading the dataset\n",
      "Dataset loaded\n",
      "Time elapsed: 0.31102871894836426 minutes\n",
      "[Step 2.2] Generating predictions with pre-trained models\n",
      "Loading model 1\n",
      "Saving .gii files in: /neurodesktop-storage/nyu_retinotopy_data/freesurfer_pial2mid/sub-wlsubj001/deepRetinotopy/\n",
      "Saving .gii files in: /neurodesktop-storage/nyu_retinotopy_data/freesurfer_pial2mid/sub-wlsubj006/deepRetinotopy/\n",
      "Saving .gii files in: /neurodesktop-storage/nyu_retinotopy_data/freesurfer_pial2mid/sub-wlsubj007/deepRetinotopy/\n",
      "Saving .gii files in: /neurodesktop-storage/nyu_retinotopy_data/freesurfer_pial2mid/sub-wlsubj014/deepRetinotopy/\n",
      "Saving .gii files in: /neurodesktop-storage/nyu_retinotopy_data/freesurfer_pial2mid/sub-wlsubj019/deepRetinotopy/\n",
      "Saving .gii files in: /neurodesktop-storage/nyu_retinotopy_data/freesurfer_pial2mid/sub-wlsubj023/deepRetinotopy/\n",
      "Saving .gii files in: /neurodesktop-storage/nyu_retinotopy_data/freesurfer_pial2mid/sub-wlsubj042/deepRetinotopy/\n",
      "Saving .gii files in: /neurodesktop-storage/nyu_retinotopy_data/freesurfer_pial2mid/sub-wlsubj045/deepRetinotopy/\n",
      "Saving .gii files in: /neurodesktop-storage/nyu_retinotopy_data/freesurfer_pial2mid/sub-wlsubj055/deepRetinotopy/\n",
      "Saving .gii files in: /neurodesktop-storage/nyu_retinotopy_data/freesurfer_pial2mid/sub-wlsubj056/deepRetinotopy/\n",
      "Saving .gii files in: /neurodesktop-storage/nyu_retinotopy_data/freesurfer_pial2mid/sub-wlsubj057/deepRetinotopy/\n",
      "Saving .gii files in: /neurodesktop-storage/nyu_retinotopy_data/freesurfer_pial2mid/sub-wlsubj062/deepRetinotopy/\n",
      "Saving .gii files in: /neurodesktop-storage/nyu_retinotopy_data/freesurfer_pial2mid/sub-wlsubj071/deepRetinotopy/\n",
      "Saving .gii files in: /neurodesktop-storage/nyu_retinotopy_data/freesurfer_pial2mid/sub-wlsubj076/deepRetinotopy/\n",
      "Saving .gii files in: /neurodesktop-storage/nyu_retinotopy_data/freesurfer_pial2mid/sub-wlsubj079/deepRetinotopy/\n",
      "Saving .gii files in: /neurodesktop-storage/nyu_retinotopy_data/freesurfer_pial2mid/sub-wlsubj081/deepRetinotopy/\n",
      "Saving .gii files in: /neurodesktop-storage/nyu_retinotopy_data/freesurfer_pial2mid/sub-wlsubj083/deepRetinotopy/\n",
      "Saving .gii files in: /neurodesktop-storage/nyu_retinotopy_data/freesurfer_pial2mid/sub-wlsubj084/deepRetinotopy/\n",
      "Saving .gii files in: /neurodesktop-storage/nyu_retinotopy_data/freesurfer_pial2mid/sub-wlsubj086/deepRetinotopy/\n",
      "Saving .gii files in: /neurodesktop-storage/nyu_retinotopy_data/freesurfer_pial2mid/sub-wlsubj088/deepRetinotopy/\n",
      "Saving .gii files in: /neurodesktop-storage/nyu_retinotopy_data/freesurfer_pial2mid/sub-wlsubj091/deepRetinotopy/\n",
      "Saving .gii files in: /neurodesktop-storage/nyu_retinotopy_data/freesurfer_pial2mid/sub-wlsubj094/deepRetinotopy/\n",
      "Saving .gii files in: /neurodesktop-storage/nyu_retinotopy_data/freesurfer_pial2mid/sub-wlsubj095/deepRetinotopy/\n",
      "Saving .gii files in: /neurodesktop-storage/nyu_retinotopy_data/freesurfer_pial2mid/sub-wlsubj104/deepRetinotopy/\n",
      "Saving .gii files in: /neurodesktop-storage/nyu_retinotopy_data/freesurfer_pial2mid/sub-wlsubj114/deepRetinotopy/\n",
      "Saving .gii files in: /neurodesktop-storage/nyu_retinotopy_data/freesurfer_pial2mid/sub-wlsubj115/deepRetinotopy/\n",
      "Saving .gii files in: /neurodesktop-storage/nyu_retinotopy_data/freesurfer_pial2mid/sub-wlsubj116/deepRetinotopy/\n",
      "Saving .gii files in: /neurodesktop-storage/nyu_retinotopy_data/freesurfer_pial2mid/sub-wlsubj117/deepRetinotopy/\n",
      "Saving .gii files in: /neurodesktop-storage/nyu_retinotopy_data/freesurfer_pial2mid/sub-wlsubj118/deepRetinotopy/\n",
      "Saving .gii files in: /neurodesktop-storage/nyu_retinotopy_data/freesurfer_pial2mid/sub-wlsubj120/deepRetinotopy/\n",
      "Saving .gii files in: /neurodesktop-storage/nyu_retinotopy_data/freesurfer_pial2mid/sub-wlsubj126/deepRetinotopy/\n",
      "Predictions from model 1 were saved\n",
      "Time elapsed: 15.382516466081142 minutes\n",
      "--------------------------------------------------------------------------------\n",
      "[Step 3] Resampling predictions to native space...\n",
      "Model: model\n",
      "polarAngle predictions resampling for rh is done!\n",
      "--------------------------------------------------------------------------------\n",
      "--------------------------------------------------------------------------------\n",
      "Map: eccentricity\n",
      "--------------------------------------------------------------------------------\n",
      "[Step 2] Retinotopy prediction...\n",
      "Processing...\n",
      "Done!\n",
      "[Step 2.1] Loading the dataset\n",
      "Dataset loaded\n",
      "Time elapsed: 0.3085577189922333 minutes\n",
      "[Step 2.2] Generating predictions with pre-trained models\n",
      "Loading model 1\n",
      "Saving .gii files in: /neurodesktop-storage/nyu_retinotopy_data/freesurfer_pial2mid/sub-wlsubj001/deepRetinotopy/\n",
      "Saving .gii files in: /neurodesktop-storage/nyu_retinotopy_data/freesurfer_pial2mid/sub-wlsubj006/deepRetinotopy/\n",
      "Saving .gii files in: /neurodesktop-storage/nyu_retinotopy_data/freesurfer_pial2mid/sub-wlsubj007/deepRetinotopy/\n",
      "Saving .gii files in: /neurodesktop-storage/nyu_retinotopy_data/freesurfer_pial2mid/sub-wlsubj014/deepRetinotopy/\n",
      "Saving .gii files in: /neurodesktop-storage/nyu_retinotopy_data/freesurfer_pial2mid/sub-wlsubj019/deepRetinotopy/\n",
      "Saving .gii files in: /neurodesktop-storage/nyu_retinotopy_data/freesurfer_pial2mid/sub-wlsubj023/deepRetinotopy/\n",
      "Saving .gii files in: /neurodesktop-storage/nyu_retinotopy_data/freesurfer_pial2mid/sub-wlsubj042/deepRetinotopy/\n",
      "Saving .gii files in: /neurodesktop-storage/nyu_retinotopy_data/freesurfer_pial2mid/sub-wlsubj045/deepRetinotopy/\n",
      "Saving .gii files in: /neurodesktop-storage/nyu_retinotopy_data/freesurfer_pial2mid/sub-wlsubj055/deepRetinotopy/\n",
      "Saving .gii files in: /neurodesktop-storage/nyu_retinotopy_data/freesurfer_pial2mid/sub-wlsubj056/deepRetinotopy/\n",
      "Saving .gii files in: /neurodesktop-storage/nyu_retinotopy_data/freesurfer_pial2mid/sub-wlsubj057/deepRetinotopy/\n",
      "Saving .gii files in: /neurodesktop-storage/nyu_retinotopy_data/freesurfer_pial2mid/sub-wlsubj062/deepRetinotopy/\n",
      "Saving .gii files in: /neurodesktop-storage/nyu_retinotopy_data/freesurfer_pial2mid/sub-wlsubj071/deepRetinotopy/\n",
      "Saving .gii files in: /neurodesktop-storage/nyu_retinotopy_data/freesurfer_pial2mid/sub-wlsubj076/deepRetinotopy/\n",
      "Saving .gii files in: /neurodesktop-storage/nyu_retinotopy_data/freesurfer_pial2mid/sub-wlsubj079/deepRetinotopy/\n",
      "Saving .gii files in: /neurodesktop-storage/nyu_retinotopy_data/freesurfer_pial2mid/sub-wlsubj081/deepRetinotopy/\n",
      "Saving .gii files in: /neurodesktop-storage/nyu_retinotopy_data/freesurfer_pial2mid/sub-wlsubj083/deepRetinotopy/\n",
      "Saving .gii files in: /neurodesktop-storage/nyu_retinotopy_data/freesurfer_pial2mid/sub-wlsubj084/deepRetinotopy/\n",
      "Saving .gii files in: /neurodesktop-storage/nyu_retinotopy_data/freesurfer_pial2mid/sub-wlsubj086/deepRetinotopy/\n",
      "Saving .gii files in: /neurodesktop-storage/nyu_retinotopy_data/freesurfer_pial2mid/sub-wlsubj088/deepRetinotopy/\n",
      "Saving .gii files in: /neurodesktop-storage/nyu_retinotopy_data/freesurfer_pial2mid/sub-wlsubj091/deepRetinotopy/\n",
      "Saving .gii files in: /neurodesktop-storage/nyu_retinotopy_data/freesurfer_pial2mid/sub-wlsubj094/deepRetinotopy/\n",
      "Saving .gii files in: /neurodesktop-storage/nyu_retinotopy_data/freesurfer_pial2mid/sub-wlsubj095/deepRetinotopy/\n",
      "Saving .gii files in: /neurodesktop-storage/nyu_retinotopy_data/freesurfer_pial2mid/sub-wlsubj104/deepRetinotopy/\n",
      "Saving .gii files in: /neurodesktop-storage/nyu_retinotopy_data/freesurfer_pial2mid/sub-wlsubj114/deepRetinotopy/\n",
      "Saving .gii files in: /neurodesktop-storage/nyu_retinotopy_data/freesurfer_pial2mid/sub-wlsubj115/deepRetinotopy/\n",
      "Saving .gii files in: /neurodesktop-storage/nyu_retinotopy_data/freesurfer_pial2mid/sub-wlsubj116/deepRetinotopy/\n",
      "Saving .gii files in: /neurodesktop-storage/nyu_retinotopy_data/freesurfer_pial2mid/sub-wlsubj117/deepRetinotopy/\n",
      "Saving .gii files in: /neurodesktop-storage/nyu_retinotopy_data/freesurfer_pial2mid/sub-wlsubj118/deepRetinotopy/\n",
      "Saving .gii files in: /neurodesktop-storage/nyu_retinotopy_data/freesurfer_pial2mid/sub-wlsubj120/deepRetinotopy/\n",
      "Saving .gii files in: /neurodesktop-storage/nyu_retinotopy_data/freesurfer_pial2mid/sub-wlsubj126/deepRetinotopy/\n",
      "Predictions from model 1 were saved\n",
      "Time elapsed: 23.91852179542184 minutes\n",
      "--------------------------------------------------------------------------------\n",
      "[Step 3] Resampling predictions to native space...\n",
      "Model: model\n",
      "eccentricity predictions resampling for rh is done!\n",
      "--------------------------------------------------------------------------------\n",
      "All done!\n",
      "Runtime: 6590.522216 seconds\n"
     ]
    }
   ],
   "source": [
    "import time\n",
    "start_time = time.time()\n",
    "!deepRetinotopy -s /neurodesktop-storage/nyu_retinotopy_data/freesurfer_pial2mid/ \\\n",
    "                -t /neurodesktop-storage/HCPpipelines/global/templates/standard_mesh_atlases/resample_fsaverage/ \\\n",
    "                -d nyu \\\n",
    "                -m \"polarAngle,eccentricity\"\n",
    "end_time = time.time()\n",
    "print(f\"Runtime: {end_time - start_time:.6f} seconds\")"
   ]
  },
  {
   "cell_type": "code",
   "execution_count": 3,
   "id": "4c0bd01c-f46d-4b30-b036-5c389bf4f289",
   "metadata": {
    "scrolled": true
   },
   "outputs": [
    {
     "name": "stdout",
     "output_type": "stream",
     "text": [
      "--------------------------------------------------------------------------------\n",
      "DeepRetinotopy: retinotopic mapping using deep learning\n",
      "--------------------------------------------------------------------------------\n",
      "Directories and parameters:\n",
      "\n",
      "Path to FreeSurfer directory: /neurodesktop-storage/nyu_retinotopy_data/freesurfer_white2mid/\n",
      "Path to fs_LR-deformed_to-fsaverage template surfaces: /neurodesktop-storage/HCPpipelines/global/templates/standard_mesh_atlases/resample_fsaverage/\n",
      "Dataset name: nyu\n",
      "Maps: polarAngle eccentricity\n",
      "--------------------------------------------------------------------------------\n",
      "Generating retinotopic maps for the left hemisphere\n",
      "--------------------------------------------------------------------------------\n",
      "[Step 1] Generating mid-thickness surface and curvature data...\n",
      "Hemisphere: lh\n",
      "[Step 1.1] Generating mid-thickness surface and curvature data if not available...\n",
      "Mid-thickness surface and curvature data is already available.\n",
      "[Step 1.2] Preparing native surfaces for resampling if not available...\n",
      "Resampled curvature data is already available.\n",
      "Execution time: 0 minutes\n",
      "[Step 1.1] Generating mid-thickness surface and curvature data if not available...\n",
      "Mid-thickness surface and curvature data is already available.\n",
      "[Step 1.2] Preparing native surfaces for resampling if not available...\n",
      "Resampled curvature data is already available.\n",
      "Execution time: 0 minutes\n",
      "[Step 1.1] Generating mid-thickness surface and curvature data if not available...\n",
      "Mid-thickness surface and curvature data is already available.\n",
      "[Step 1.2] Preparing native surfaces for resampling if not available...\n",
      "Resampled curvature data is already available.\n",
      "Execution time: 0 minutes\n",
      "[Step 1.1] Generating mid-thickness surface and curvature data if not available...\n",
      "Mid-thickness surface and curvature data is already available.\n",
      "[Step 1.2] Preparing native surfaces for resampling if not available...\n",
      "Resampled curvature data is already available.\n",
      "Execution time: 0 minutes\n",
      "[Step 1.1] Generating mid-thickness surface and curvature data if not available...\n",
      "Mid-thickness surface and curvature data is already available.\n",
      "[Step 1.2] Preparing native surfaces for resampling if not available...\n",
      "Resampled curvature data is already available.\n",
      "Execution time: 0 minutes\n",
      "[Step 1.1] Generating mid-thickness surface and curvature data if not available...\n",
      "Mid-thickness surface and curvature data is already available.\n",
      "[Step 1.2] Preparing native surfaces for resampling if not available...\n",
      "Resampled curvature data is already available.\n",
      "Execution time: 0 minutes\n",
      "[Step 1.1] Generating mid-thickness surface and curvature data if not available...\n",
      "Mid-thickness surface and curvature data is already available.\n",
      "[Step 1.2] Preparing native surfaces for resampling if not available...\n",
      "Resampled curvature data is already available.\n",
      "Execution time: 0 minutes\n",
      "[Step 1.1] Generating mid-thickness surface and curvature data if not available...\n",
      "Mid-thickness surface and curvature data is already available.\n",
      "[Step 1.2] Preparing native surfaces for resampling if not available...\n",
      "Resampled curvature data is already available.\n",
      "Execution time: 0 minutes\n",
      "[Step 1.1] Generating mid-thickness surface and curvature data if not available...\n",
      "Mid-thickness surface and curvature data is already available.\n",
      "[Step 1.2] Preparing native surfaces for resampling if not available...\n",
      "Resampled curvature data is already available.\n",
      "Execution time: 0 minutes\n",
      "[Step 1.1] Generating mid-thickness surface and curvature data if not available...\n",
      "Mid-thickness surface and curvature data is already available.\n",
      "[Step 1.2] Preparing native surfaces for resampling if not available...\n",
      "Resampled curvature data is already available.\n",
      "Execution time: 0 minutes\n",
      "[Step 1.1] Generating mid-thickness surface and curvature data if not available...\n",
      "Mid-thickness surface and curvature data is already available.\n",
      "[Step 1.2] Preparing native surfaces for resampling if not available...\n",
      "Resampled curvature data is already available.\n",
      "Execution time: 0 minutes\n",
      "[Step 1.1] Generating mid-thickness surface and curvature data if not available...\n",
      "Mid-thickness surface and curvature data is already available.\n",
      "[Step 1.2] Preparing native surfaces for resampling if not available...\n",
      "Resampled curvature data is already available.\n",
      "Execution time: 0 minutes\n",
      "[Step 1.1] Generating mid-thickness surface and curvature data if not available...\n",
      "Mid-thickness surface and curvature data is already available.\n",
      "[Step 1.2] Preparing native surfaces for resampling if not available...\n",
      "Resampled curvature data is already available.\n",
      "Execution time: 0 minutes\n",
      "[Step 1.1] Generating mid-thickness surface and curvature data if not available...\n",
      "Mid-thickness surface and curvature data is already available.\n",
      "[Step 1.2] Preparing native surfaces for resampling if not available...\n",
      "Resampled curvature data is already available.\n",
      "Execution time: 0 minutes\n",
      "[Step 1.1] Generating mid-thickness surface and curvature data if not available...\n",
      "Mid-thickness surface and curvature data is already available.\n",
      "[Step 1.2] Preparing native surfaces for resampling if not available...\n",
      "Resampled curvature data is already available.\n",
      "Execution time: 0 minutes\n",
      "[Step 1.1] Generating mid-thickness surface and curvature data if not available...\n",
      "Mid-thickness surface and curvature data is already available.\n",
      "[Step 1.2] Preparing native surfaces for resampling if not available...\n",
      "Resampled curvature data is already available.\n",
      "Execution time: 0 minutes\n",
      "[Step 1.1] Generating mid-thickness surface and curvature data if not available...\n",
      "Mid-thickness surface and curvature data is already available.\n",
      "[Step 1.2] Preparing native surfaces for resampling if not available...\n",
      "Resampled curvature data is already available.\n",
      "Execution time: 0 minutes\n",
      "[Step 1.1] Generating mid-thickness surface and curvature data if not available...\n",
      "Mid-thickness surface and curvature data is already available.\n",
      "[Step 1.2] Preparing native surfaces for resampling if not available...\n",
      "Resampled curvature data is already available.\n",
      "Execution time: 0 minutes\n",
      "[Step 1.1] Generating mid-thickness surface and curvature data if not available...\n",
      "Mid-thickness surface and curvature data is already available.\n",
      "[Step 1.2] Preparing native surfaces for resampling if not available...\n",
      "Resampled curvature data is already available.\n",
      "Execution time: 0 minutes\n",
      "[Step 1.1] Generating mid-thickness surface and curvature data if not available...\n",
      "Mid-thickness surface and curvature data is already available.\n",
      "[Step 1.2] Preparing native surfaces for resampling if not available...\n",
      "Resampled curvature data is already available.\n",
      "Execution time: 0 minutes\n",
      "[Step 1.1] Generating mid-thickness surface and curvature data if not available...\n",
      "Mid-thickness surface and curvature data is already available.\n",
      "[Step 1.2] Preparing native surfaces for resampling if not available...\n",
      "Resampled curvature data is already available.\n",
      "Execution time: 0 minutes\n",
      "[Step 1.1] Generating mid-thickness surface and curvature data if not available...\n",
      "Mid-thickness surface and curvature data is already available.\n",
      "[Step 1.2] Preparing native surfaces for resampling if not available...\n",
      "Resampled curvature data is already available.\n",
      "Execution time: 0 minutes\n",
      "[Step 1.1] Generating mid-thickness surface and curvature data if not available...\n",
      "Mid-thickness surface and curvature data is already available.\n",
      "[Step 1.2] Preparing native surfaces for resampling if not available...\n",
      "Resampled curvature data is already available.\n",
      "Execution time: 0 minutes\n",
      "[Step 1.1] Generating mid-thickness surface and curvature data if not available...\n",
      "Mid-thickness surface and curvature data is already available.\n",
      "[Step 1.2] Preparing native surfaces for resampling if not available...\n",
      "Resampled curvature data is already available.\n",
      "Execution time: 0 minutes\n",
      "[Step 1.1] Generating mid-thickness surface and curvature data if not available...\n",
      "Mid-thickness surface and curvature data is already available.\n",
      "[Step 1.2] Preparing native surfaces for resampling if not available...\n",
      "Resampled curvature data is already available.\n",
      "Execution time: 0 minutes\n",
      "[Step 1.1] Generating mid-thickness surface and curvature data if not available...\n",
      "Mid-thickness surface and curvature data is already available.\n",
      "[Step 1.2] Preparing native surfaces for resampling if not available...\n",
      "Resampled curvature data is already available.\n",
      "Execution time: 0 minutes\n",
      "[Step 1.1] Generating mid-thickness surface and curvature data if not available...\n",
      "Mid-thickness surface and curvature data is already available.\n",
      "[Step 1.2] Preparing native surfaces for resampling if not available...\n",
      "Resampled curvature data is already available.\n",
      "Execution time: 0 minutes\n",
      "[Step 1.1] Generating mid-thickness surface and curvature data if not available...\n",
      "Mid-thickness surface and curvature data is already available.\n",
      "[Step 1.2] Preparing native surfaces for resampling if not available...\n",
      "Resampled curvature data is already available.\n",
      "Execution time: 0 minutes\n",
      "[Step 1.1] Generating mid-thickness surface and curvature data if not available...\n",
      "Mid-thickness surface and curvature data is already available.\n",
      "[Step 1.2] Preparing native surfaces for resampling if not available...\n",
      "Resampled curvature data is already available.\n",
      "Execution time: 0 minutes\n",
      "[Step 1.1] Generating mid-thickness surface and curvature data if not available...\n",
      "Mid-thickness surface and curvature data is already available.\n",
      "[Step 1.2] Preparing native surfaces for resampling if not available...\n",
      "Resampled curvature data is already available.\n",
      "Execution time: 0 minutes\n",
      "[Step 1.1] Generating mid-thickness surface and curvature data if not available...\n",
      "Mid-thickness surface and curvature data is already available.\n",
      "[Step 1.2] Preparing native surfaces for resampling if not available...\n",
      "Resampled curvature data is already available.\n",
      "Execution time: 0 minutes\n",
      "--------------------------------------------------------------------------------\n",
      "Map: polarAngle\n",
      "--------------------------------------------------------------------------------\n",
      "[Step 2] Retinotopy prediction...\n",
      "Processing...\n",
      "Done!\n",
      "[Step 2.1] Loading the dataset\n",
      "Dataset loaded\n",
      "Time elapsed: 0.3087107166647911 minutes\n",
      "[Step 2.2] Generating predictions with pre-trained models\n",
      "Loading model 1\n",
      "Saving .gii files in: /neurodesktop-storage/nyu_retinotopy_data/freesurfer_white2mid/sub-wlsubj001/deepRetinotopy/\n",
      "Saving .gii files in: /neurodesktop-storage/nyu_retinotopy_data/freesurfer_white2mid/sub-wlsubj006/deepRetinotopy/\n",
      "Saving .gii files in: /neurodesktop-storage/nyu_retinotopy_data/freesurfer_white2mid/sub-wlsubj007/deepRetinotopy/\n",
      "Saving .gii files in: /neurodesktop-storage/nyu_retinotopy_data/freesurfer_white2mid/sub-wlsubj014/deepRetinotopy/\n",
      "Saving .gii files in: /neurodesktop-storage/nyu_retinotopy_data/freesurfer_white2mid/sub-wlsubj019/deepRetinotopy/\n",
      "Saving .gii files in: /neurodesktop-storage/nyu_retinotopy_data/freesurfer_white2mid/sub-wlsubj023/deepRetinotopy/\n",
      "Saving .gii files in: /neurodesktop-storage/nyu_retinotopy_data/freesurfer_white2mid/sub-wlsubj042/deepRetinotopy/\n",
      "Saving .gii files in: /neurodesktop-storage/nyu_retinotopy_data/freesurfer_white2mid/sub-wlsubj045/deepRetinotopy/\n",
      "Saving .gii files in: /neurodesktop-storage/nyu_retinotopy_data/freesurfer_white2mid/sub-wlsubj055/deepRetinotopy/\n",
      "Saving .gii files in: /neurodesktop-storage/nyu_retinotopy_data/freesurfer_white2mid/sub-wlsubj056/deepRetinotopy/\n",
      "Saving .gii files in: /neurodesktop-storage/nyu_retinotopy_data/freesurfer_white2mid/sub-wlsubj057/deepRetinotopy/\n",
      "Saving .gii files in: /neurodesktop-storage/nyu_retinotopy_data/freesurfer_white2mid/sub-wlsubj062/deepRetinotopy/\n",
      "Saving .gii files in: /neurodesktop-storage/nyu_retinotopy_data/freesurfer_white2mid/sub-wlsubj071/deepRetinotopy/\n",
      "Saving .gii files in: /neurodesktop-storage/nyu_retinotopy_data/freesurfer_white2mid/sub-wlsubj076/deepRetinotopy/\n",
      "Saving .gii files in: /neurodesktop-storage/nyu_retinotopy_data/freesurfer_white2mid/sub-wlsubj079/deepRetinotopy/\n",
      "Saving .gii files in: /neurodesktop-storage/nyu_retinotopy_data/freesurfer_white2mid/sub-wlsubj081/deepRetinotopy/\n",
      "Saving .gii files in: /neurodesktop-storage/nyu_retinotopy_data/freesurfer_white2mid/sub-wlsubj083/deepRetinotopy/\n",
      "Saving .gii files in: /neurodesktop-storage/nyu_retinotopy_data/freesurfer_white2mid/sub-wlsubj084/deepRetinotopy/\n",
      "Saving .gii files in: /neurodesktop-storage/nyu_retinotopy_data/freesurfer_white2mid/sub-wlsubj086/deepRetinotopy/\n",
      "Saving .gii files in: /neurodesktop-storage/nyu_retinotopy_data/freesurfer_white2mid/sub-wlsubj088/deepRetinotopy/\n",
      "Saving .gii files in: /neurodesktop-storage/nyu_retinotopy_data/freesurfer_white2mid/sub-wlsubj091/deepRetinotopy/\n",
      "Saving .gii files in: /neurodesktop-storage/nyu_retinotopy_data/freesurfer_white2mid/sub-wlsubj094/deepRetinotopy/\n",
      "Saving .gii files in: /neurodesktop-storage/nyu_retinotopy_data/freesurfer_white2mid/sub-wlsubj095/deepRetinotopy/\n",
      "Saving .gii files in: /neurodesktop-storage/nyu_retinotopy_data/freesurfer_white2mid/sub-wlsubj104/deepRetinotopy/\n",
      "Saving .gii files in: /neurodesktop-storage/nyu_retinotopy_data/freesurfer_white2mid/sub-wlsubj114/deepRetinotopy/\n",
      "Saving .gii files in: /neurodesktop-storage/nyu_retinotopy_data/freesurfer_white2mid/sub-wlsubj115/deepRetinotopy/\n",
      "Saving .gii files in: /neurodesktop-storage/nyu_retinotopy_data/freesurfer_white2mid/sub-wlsubj116/deepRetinotopy/\n",
      "Saving .gii files in: /neurodesktop-storage/nyu_retinotopy_data/freesurfer_white2mid/sub-wlsubj117/deepRetinotopy/\n",
      "Saving .gii files in: /neurodesktop-storage/nyu_retinotopy_data/freesurfer_white2mid/sub-wlsubj118/deepRetinotopy/\n",
      "Saving .gii files in: /neurodesktop-storage/nyu_retinotopy_data/freesurfer_white2mid/sub-wlsubj120/deepRetinotopy/\n",
      "Saving .gii files in: /neurodesktop-storage/nyu_retinotopy_data/freesurfer_white2mid/sub-wlsubj126/deepRetinotopy/\n",
      "Predictions from model 1 were saved\n",
      "Time elapsed: 8.524187993258238 minutes\n",
      "--------------------------------------------------------------------------------\n",
      "[Step 3] Resampling predictions to native space...\n",
      "Model: model\n",
      "Transforming polar angle map of the left hemisphere...\n",
      "Transforming polar angle map of the left hemisphere...\n",
      "Transforming polar angle map of the left hemisphere...\n",
      "Transforming polar angle map of the left hemisphere...\n",
      "Transforming polar angle map of the left hemisphere...\n",
      "Transforming polar angle map of the left hemisphere...\n",
      "Transforming polar angle map of the left hemisphere...\n",
      "Transforming polar angle map of the left hemisphere...\n",
      "Transforming polar angle map of the left hemisphere...\n",
      "Transforming polar angle map of the left hemisphere...\n",
      "Transforming polar angle map of the left hemisphere...\n",
      "Transforming polar angle map of the left hemisphere...\n",
      "Transforming polar angle map of the left hemisphere...\n",
      "Transforming polar angle map of the left hemisphere...\n",
      "Transforming polar angle map of the left hemisphere...\n",
      "Transforming polar angle map of the left hemisphere...\n",
      "Transforming polar angle map of the left hemisphere...\n",
      "Transforming polar angle map of the left hemisphere...\n",
      "Transforming polar angle map of the left hemisphere...\n",
      "Transforming polar angle map of the left hemisphere...\n",
      "Transforming polar angle map of the left hemisphere...\n",
      "Transforming polar angle map of the left hemisphere...\n",
      "Transforming polar angle map of the left hemisphere...\n",
      "Transforming polar angle map of the left hemisphere...\n",
      "Transforming polar angle map of the left hemisphere...\n",
      "Transforming polar angle map of the left hemisphere...\n",
      "Transforming polar angle map of the left hemisphere...\n",
      "Transforming polar angle map of the left hemisphere...\n",
      "Transforming polar angle map of the left hemisphere...\n",
      "Transforming polar angle map of the left hemisphere...\n",
      "Transforming polar angle map of the left hemisphere...\n",
      "polarAngle predictions resampling for lh is done!\n",
      "--------------------------------------------------------------------------------\n",
      "--------------------------------------------------------------------------------\n",
      "Map: eccentricity\n",
      "--------------------------------------------------------------------------------\n",
      "[Step 2] Retinotopy prediction...\n",
      "Processing...\n",
      "Done!\n",
      "[Step 2.1] Loading the dataset\n",
      "Dataset loaded\n",
      "Time elapsed: 0.30397119745612144 minutes\n",
      "[Step 2.2] Generating predictions with pre-trained models\n",
      "Loading model 1\n",
      "Saving .gii files in: /neurodesktop-storage/nyu_retinotopy_data/freesurfer_white2mid/sub-wlsubj001/deepRetinotopy/\n",
      "Saving .gii files in: /neurodesktop-storage/nyu_retinotopy_data/freesurfer_white2mid/sub-wlsubj006/deepRetinotopy/\n",
      "Saving .gii files in: /neurodesktop-storage/nyu_retinotopy_data/freesurfer_white2mid/sub-wlsubj007/deepRetinotopy/\n",
      "Saving .gii files in: /neurodesktop-storage/nyu_retinotopy_data/freesurfer_white2mid/sub-wlsubj014/deepRetinotopy/\n",
      "Saving .gii files in: /neurodesktop-storage/nyu_retinotopy_data/freesurfer_white2mid/sub-wlsubj019/deepRetinotopy/\n",
      "Saving .gii files in: /neurodesktop-storage/nyu_retinotopy_data/freesurfer_white2mid/sub-wlsubj023/deepRetinotopy/\n",
      "Saving .gii files in: /neurodesktop-storage/nyu_retinotopy_data/freesurfer_white2mid/sub-wlsubj042/deepRetinotopy/\n",
      "Saving .gii files in: /neurodesktop-storage/nyu_retinotopy_data/freesurfer_white2mid/sub-wlsubj045/deepRetinotopy/\n",
      "Saving .gii files in: /neurodesktop-storage/nyu_retinotopy_data/freesurfer_white2mid/sub-wlsubj055/deepRetinotopy/\n",
      "Saving .gii files in: /neurodesktop-storage/nyu_retinotopy_data/freesurfer_white2mid/sub-wlsubj056/deepRetinotopy/\n",
      "Saving .gii files in: /neurodesktop-storage/nyu_retinotopy_data/freesurfer_white2mid/sub-wlsubj057/deepRetinotopy/\n",
      "Saving .gii files in: /neurodesktop-storage/nyu_retinotopy_data/freesurfer_white2mid/sub-wlsubj062/deepRetinotopy/\n",
      "Saving .gii files in: /neurodesktop-storage/nyu_retinotopy_data/freesurfer_white2mid/sub-wlsubj071/deepRetinotopy/\n",
      "Saving .gii files in: /neurodesktop-storage/nyu_retinotopy_data/freesurfer_white2mid/sub-wlsubj076/deepRetinotopy/\n",
      "Saving .gii files in: /neurodesktop-storage/nyu_retinotopy_data/freesurfer_white2mid/sub-wlsubj079/deepRetinotopy/\n",
      "Saving .gii files in: /neurodesktop-storage/nyu_retinotopy_data/freesurfer_white2mid/sub-wlsubj081/deepRetinotopy/\n",
      "Saving .gii files in: /neurodesktop-storage/nyu_retinotopy_data/freesurfer_white2mid/sub-wlsubj083/deepRetinotopy/\n",
      "Saving .gii files in: /neurodesktop-storage/nyu_retinotopy_data/freesurfer_white2mid/sub-wlsubj084/deepRetinotopy/\n",
      "Saving .gii files in: /neurodesktop-storage/nyu_retinotopy_data/freesurfer_white2mid/sub-wlsubj086/deepRetinotopy/\n",
      "Saving .gii files in: /neurodesktop-storage/nyu_retinotopy_data/freesurfer_white2mid/sub-wlsubj088/deepRetinotopy/\n",
      "Saving .gii files in: /neurodesktop-storage/nyu_retinotopy_data/freesurfer_white2mid/sub-wlsubj091/deepRetinotopy/\n",
      "Saving .gii files in: /neurodesktop-storage/nyu_retinotopy_data/freesurfer_white2mid/sub-wlsubj094/deepRetinotopy/\n",
      "Saving .gii files in: /neurodesktop-storage/nyu_retinotopy_data/freesurfer_white2mid/sub-wlsubj095/deepRetinotopy/\n",
      "Saving .gii files in: /neurodesktop-storage/nyu_retinotopy_data/freesurfer_white2mid/sub-wlsubj104/deepRetinotopy/\n",
      "Saving .gii files in: /neurodesktop-storage/nyu_retinotopy_data/freesurfer_white2mid/sub-wlsubj114/deepRetinotopy/\n",
      "Saving .gii files in: /neurodesktop-storage/nyu_retinotopy_data/freesurfer_white2mid/sub-wlsubj115/deepRetinotopy/\n",
      "Saving .gii files in: /neurodesktop-storage/nyu_retinotopy_data/freesurfer_white2mid/sub-wlsubj116/deepRetinotopy/\n",
      "Saving .gii files in: /neurodesktop-storage/nyu_retinotopy_data/freesurfer_white2mid/sub-wlsubj117/deepRetinotopy/\n",
      "Saving .gii files in: /neurodesktop-storage/nyu_retinotopy_data/freesurfer_white2mid/sub-wlsubj118/deepRetinotopy/\n",
      "Saving .gii files in: /neurodesktop-storage/nyu_retinotopy_data/freesurfer_white2mid/sub-wlsubj120/deepRetinotopy/\n",
      "Saving .gii files in: /neurodesktop-storage/nyu_retinotopy_data/freesurfer_white2mid/sub-wlsubj126/deepRetinotopy/\n",
      "Predictions from model 1 were saved\n",
      "Time elapsed: 8.528176747262478 minutes\n",
      "--------------------------------------------------------------------------------\n",
      "[Step 3] Resampling predictions to native space...\n",
      "Model: model\n",
      "eccentricity predictions resampling for lh is done!\n",
      "--------------------------------------------------------------------------------\n",
      "Generating retinotopic maps for the right hemisphere\n",
      "--------------------------------------------------------------------------------\n",
      "[Step 1] Generating mid-thickness surface and curvature data...\n",
      "Hemisphere: rh\n",
      "[Step 1.1] Generating mid-thickness surface and curvature data if not available...\n",
      "Mid-thickness surface and curvature data is already available.\n",
      "[Step 1.2] Preparing native surfaces for resampling if not available...\n",
      "Saving sub-wlsubj001/surf/rh.midthickness.surf.gii.temp85483.white.surf.gii as a surface\n",
      "Saving sub-wlsubj001/surf/rh.midthickness.surf.gii.temp85483.pial.surf.gii as a surface\n",
      "Saving sub-wlsubj001/surf/rh.sphere.reg.surf.gii as a surface\n",
      "Resampling native data to fsaverage space...\n",
      "Data resampling is complete.\n",
      "Execution time: 0 minutes\n",
      "[Step 1.1] Generating mid-thickness surface and curvature data if not available...\n",
      "Mid-thickness surface and curvature data is already available.\n",
      "[Step 1.2] Preparing native surfaces for resampling if not available...\n",
      "Saving sub-wlsubj006/surf/rh.midthickness.surf.gii.temp85662.white.surf.gii as a surface\n",
      "Saving sub-wlsubj006/surf/rh.midthickness.surf.gii.temp85662.pial.surf.gii as a surface\n",
      "Saving sub-wlsubj006/surf/rh.sphere.reg.surf.gii as a surface\n",
      "Resampling native data to fsaverage space...\n",
      "Data resampling is complete.\n",
      "Execution time: 0 minutes\n",
      "[Step 1.1] Generating mid-thickness surface and curvature data if not available...\n",
      "Mid-thickness surface and curvature data is already available.\n",
      "[Step 1.2] Preparing native surfaces for resampling if not available...\n",
      "Saving sub-wlsubj007/surf/rh.midthickness.surf.gii.temp85841.white.surf.gii as a surface\n",
      "Saving sub-wlsubj007/surf/rh.midthickness.surf.gii.temp85841.pial.surf.gii as a surface\n",
      "Saving sub-wlsubj007/surf/rh.sphere.reg.surf.gii as a surface\n",
      "Resampling native data to fsaverage space...\n",
      "Data resampling is complete.\n",
      "Execution time: 0 minutes\n",
      "[Step 1.1] Generating mid-thickness surface and curvature data if not available...\n",
      "Mid-thickness surface and curvature data is already available.\n",
      "[Step 1.2] Preparing native surfaces for resampling if not available...\n",
      "Saving sub-wlsubj014/surf/rh.midthickness.surf.gii.temp86020.white.surf.gii as a surface\n",
      "Saving sub-wlsubj014/surf/rh.midthickness.surf.gii.temp86020.pial.surf.gii as a surface\n",
      "Saving sub-wlsubj014/surf/rh.sphere.reg.surf.gii as a surface\n",
      "Resampling native data to fsaverage space...\n",
      "Data resampling is complete.\n",
      "Execution time: 0 minutes\n",
      "[Step 1.1] Generating mid-thickness surface and curvature data if not available...\n",
      "Mid-thickness surface and curvature data is already available.\n",
      "[Step 1.2] Preparing native surfaces for resampling if not available...\n",
      "Saving sub-wlsubj019/surf/rh.midthickness.surf.gii.temp86177.white.surf.gii as a surface\n",
      "Saving sub-wlsubj019/surf/rh.midthickness.surf.gii.temp86177.pial.surf.gii as a surface\n",
      "Saving sub-wlsubj019/surf/rh.sphere.reg.surf.gii as a surface\n",
      "Resampling native data to fsaverage space...\n",
      "Data resampling is complete.\n",
      "Execution time: 0 minutes\n",
      "[Step 1.1] Generating mid-thickness surface and curvature data if not available...\n",
      "Mid-thickness surface and curvature data is already available.\n",
      "[Step 1.2] Preparing native surfaces for resampling if not available...\n",
      "Saving sub-wlsubj023/surf/rh.midthickness.surf.gii.temp86374.white.surf.gii as a surface\n",
      "Saving sub-wlsubj023/surf/rh.midthickness.surf.gii.temp86374.pial.surf.gii as a surface\n",
      "Saving sub-wlsubj023/surf/rh.sphere.reg.surf.gii as a surface\n",
      "Resampling native data to fsaverage space...\n",
      "Data resampling is complete.\n",
      "Execution time: 0 minutes\n",
      "[Step 1.1] Generating mid-thickness surface and curvature data if not available...\n",
      "Mid-thickness surface and curvature data is already available.\n",
      "[Step 1.2] Preparing native surfaces for resampling if not available...\n",
      "Saving sub-wlsubj042/surf/rh.midthickness.surf.gii.temp86530.white.surf.gii as a surface\n",
      "Saving sub-wlsubj042/surf/rh.midthickness.surf.gii.temp86530.pial.surf.gii as a surface\n",
      "Saving sub-wlsubj042/surf/rh.sphere.reg.surf.gii as a surface\n",
      "Resampling native data to fsaverage space...\n",
      "Data resampling is complete.\n",
      "Execution time: 0 minutes\n",
      "[Step 1.1] Generating mid-thickness surface and curvature data if not available...\n",
      "Mid-thickness surface and curvature data is already available.\n",
      "[Step 1.2] Preparing native surfaces for resampling if not available...\n",
      "Saving sub-wlsubj045/surf/rh.midthickness.surf.gii.temp86728.white.surf.gii as a surface\n",
      "Saving sub-wlsubj045/surf/rh.midthickness.surf.gii.temp86728.pial.surf.gii as a surface\n",
      "Saving sub-wlsubj045/surf/rh.sphere.reg.surf.gii as a surface\n",
      "Resampling native data to fsaverage space...\n",
      "Data resampling is complete.\n",
      "Execution time: 0 minutes\n",
      "[Step 1.1] Generating mid-thickness surface and curvature data if not available...\n",
      "Mid-thickness surface and curvature data is already available.\n",
      "[Step 1.2] Preparing native surfaces for resampling if not available...\n",
      "Saving sub-wlsubj055/surf/rh.midthickness.surf.gii.temp86919.white.surf.gii as a surface\n",
      "Saving sub-wlsubj055/surf/rh.midthickness.surf.gii.temp86919.pial.surf.gii as a surface\n",
      "Saving sub-wlsubj055/surf/rh.sphere.reg.surf.gii as a surface\n",
      "Resampling native data to fsaverage space...\n",
      "Data resampling is complete.\n",
      "Execution time: 0 minutes\n",
      "[Step 1.1] Generating mid-thickness surface and curvature data if not available...\n",
      "Mid-thickness surface and curvature data is already available.\n",
      "[Step 1.2] Preparing native surfaces for resampling if not available...\n",
      "Saving sub-wlsubj056/surf/rh.midthickness.surf.gii.temp87114.white.surf.gii as a surface\n",
      "Saving sub-wlsubj056/surf/rh.midthickness.surf.gii.temp87114.pial.surf.gii as a surface\n",
      "Saving sub-wlsubj056/surf/rh.sphere.reg.surf.gii as a surface\n",
      "Resampling native data to fsaverage space...\n",
      "Data resampling is complete.\n",
      "Execution time: 0 minutes\n",
      "[Step 1.1] Generating mid-thickness surface and curvature data if not available...\n",
      "Mid-thickness surface and curvature data is already available.\n",
      "[Step 1.2] Preparing native surfaces for resampling if not available...\n",
      "Saving sub-wlsubj057/surf/rh.midthickness.surf.gii.temp87317.white.surf.gii as a surface\n",
      "Saving sub-wlsubj057/surf/rh.midthickness.surf.gii.temp87317.pial.surf.gii as a surface\n",
      "Saving sub-wlsubj057/surf/rh.sphere.reg.surf.gii as a surface\n",
      "Resampling native data to fsaverage space...\n",
      "Data resampling is complete.\n",
      "Execution time: 0 minutes\n",
      "[Step 1.1] Generating mid-thickness surface and curvature data if not available...\n",
      "Mid-thickness surface and curvature data is already available.\n",
      "[Step 1.2] Preparing native surfaces for resampling if not available...\n",
      "Saving sub-wlsubj062/surf/rh.midthickness.surf.gii.temp87509.white.surf.gii as a surface\n",
      "Saving sub-wlsubj062/surf/rh.midthickness.surf.gii.temp87509.pial.surf.gii as a surface\n",
      "Saving sub-wlsubj062/surf/rh.sphere.reg.surf.gii as a surface\n",
      "Resampling native data to fsaverage space...\n",
      "Data resampling is complete.\n",
      "Execution time: 0 minutes\n",
      "[Step 1.1] Generating mid-thickness surface and curvature data if not available...\n",
      "Mid-thickness surface and curvature data is already available.\n",
      "[Step 1.2] Preparing native surfaces for resampling if not available...\n",
      "Saving sub-wlsubj071/surf/rh.midthickness.surf.gii.temp87694.white.surf.gii as a surface\n",
      "Saving sub-wlsubj071/surf/rh.midthickness.surf.gii.temp87694.pial.surf.gii as a surface\n",
      "Saving sub-wlsubj071/surf/rh.sphere.reg.surf.gii as a surface\n",
      "Resampling native data to fsaverage space...\n",
      "Data resampling is complete.\n",
      "Execution time: 0 minutes\n",
      "[Step 1.1] Generating mid-thickness surface and curvature data if not available...\n",
      "Mid-thickness surface and curvature data is already available.\n",
      "[Step 1.2] Preparing native surfaces for resampling if not available...\n",
      "Saving sub-wlsubj076/surf/rh.midthickness.surf.gii.temp87878.white.surf.gii as a surface\n",
      "Saving sub-wlsubj076/surf/rh.midthickness.surf.gii.temp87878.pial.surf.gii as a surface\n",
      "Saving sub-wlsubj076/surf/rh.sphere.reg.surf.gii as a surface\n",
      "Resampling native data to fsaverage space...\n",
      "Data resampling is complete.\n",
      "Execution time: 0 minutes\n",
      "[Step 1.1] Generating mid-thickness surface and curvature data if not available...\n",
      "Mid-thickness surface and curvature data is already available.\n",
      "[Step 1.2] Preparing native surfaces for resampling if not available...\n",
      "Saving sub-wlsubj079/surf/rh.midthickness.surf.gii.temp88079.white.surf.gii as a surface\n",
      "Saving sub-wlsubj079/surf/rh.midthickness.surf.gii.temp88079.pial.surf.gii as a surface\n",
      "Saving sub-wlsubj079/surf/rh.sphere.reg.surf.gii as a surface\n",
      "Resampling native data to fsaverage space...\n",
      "Data resampling is complete.\n",
      "Execution time: 0 minutes\n",
      "[Step 1.1] Generating mid-thickness surface and curvature data if not available...\n",
      "Mid-thickness surface and curvature data is already available.\n",
      "[Step 1.2] Preparing native surfaces for resampling if not available...\n",
      "Saving sub-wlsubj081/surf/rh.midthickness.surf.gii.temp88269.white.surf.gii as a surface\n",
      "Saving sub-wlsubj081/surf/rh.midthickness.surf.gii.temp88269.pial.surf.gii as a surface\n",
      "Saving sub-wlsubj081/surf/rh.sphere.reg.surf.gii as a surface\n",
      "Resampling native data to fsaverage space...\n",
      "Data resampling is complete.\n",
      "Execution time: 0 minutes\n",
      "[Step 1.1] Generating mid-thickness surface and curvature data if not available...\n",
      "Mid-thickness surface and curvature data is already available.\n",
      "[Step 1.2] Preparing native surfaces for resampling if not available...\n",
      "Saving sub-wlsubj083/surf/rh.midthickness.surf.gii.temp88439.white.surf.gii as a surface\n",
      "Saving sub-wlsubj083/surf/rh.midthickness.surf.gii.temp88439.pial.surf.gii as a surface\n",
      "Saving sub-wlsubj083/surf/rh.sphere.reg.surf.gii as a surface\n",
      "Resampling native data to fsaverage space...\n",
      "Data resampling is complete.\n",
      "Execution time: 0 minutes\n",
      "[Step 1.1] Generating mid-thickness surface and curvature data if not available...\n",
      "Mid-thickness surface and curvature data is already available.\n",
      "[Step 1.2] Preparing native surfaces for resampling if not available...\n",
      "Saving sub-wlsubj084/surf/rh.midthickness.surf.gii.temp88629.white.surf.gii as a surface\n",
      "Saving sub-wlsubj084/surf/rh.midthickness.surf.gii.temp88629.pial.surf.gii as a surface\n",
      "Saving sub-wlsubj084/surf/rh.sphere.reg.surf.gii as a surface\n",
      "Resampling native data to fsaverage space...\n",
      "Data resampling is complete.\n",
      "Execution time: 0 minutes\n",
      "[Step 1.1] Generating mid-thickness surface and curvature data if not available...\n",
      "Mid-thickness surface and curvature data is already available.\n",
      "[Step 1.2] Preparing native surfaces for resampling if not available...\n",
      "Saving sub-wlsubj086/surf/rh.midthickness.surf.gii.temp88811.white.surf.gii as a surface\n",
      "Saving sub-wlsubj086/surf/rh.midthickness.surf.gii.temp88811.pial.surf.gii as a surface\n",
      "Saving sub-wlsubj086/surf/rh.sphere.reg.surf.gii as a surface\n",
      "Resampling native data to fsaverage space...\n",
      "Data resampling is complete.\n",
      "Execution time: 0 minutes\n",
      "[Step 1.1] Generating mid-thickness surface and curvature data if not available...\n",
      "Mid-thickness surface and curvature data is already available.\n",
      "[Step 1.2] Preparing native surfaces for resampling if not available...\n",
      "Saving sub-wlsubj088/surf/rh.midthickness.surf.gii.temp88995.white.surf.gii as a surface\n",
      "Saving sub-wlsubj088/surf/rh.midthickness.surf.gii.temp88995.pial.surf.gii as a surface\n",
      "Saving sub-wlsubj088/surf/rh.sphere.reg.surf.gii as a surface\n",
      "Resampling native data to fsaverage space...\n",
      "Data resampling is complete.\n",
      "Execution time: 0 minutes\n",
      "[Step 1.1] Generating mid-thickness surface and curvature data if not available...\n",
      "Mid-thickness surface and curvature data is already available.\n",
      "[Step 1.2] Preparing native surfaces for resampling if not available...\n",
      "Saving sub-wlsubj091/surf/rh.midthickness.surf.gii.temp89191.white.surf.gii as a surface\n",
      "Saving sub-wlsubj091/surf/rh.midthickness.surf.gii.temp89191.pial.surf.gii as a surface\n",
      "Saving sub-wlsubj091/surf/rh.sphere.reg.surf.gii as a surface\n",
      "Resampling native data to fsaverage space...\n",
      "Data resampling is complete.\n",
      "Execution time: 0 minutes\n",
      "[Step 1.1] Generating mid-thickness surface and curvature data if not available...\n",
      "Mid-thickness surface and curvature data is already available.\n",
      "[Step 1.2] Preparing native surfaces for resampling if not available...\n",
      "Saving sub-wlsubj094/surf/rh.midthickness.surf.gii.temp89374.white.surf.gii as a surface\n",
      "Saving sub-wlsubj094/surf/rh.midthickness.surf.gii.temp89374.pial.surf.gii as a surface\n",
      "Saving sub-wlsubj094/surf/rh.sphere.reg.surf.gii as a surface\n",
      "Resampling native data to fsaverage space...\n",
      "Data resampling is complete.\n",
      "Execution time: 0 minutes\n",
      "[Step 1.1] Generating mid-thickness surface and curvature data if not available...\n",
      "Mid-thickness surface and curvature data is already available.\n",
      "[Step 1.2] Preparing native surfaces for resampling if not available...\n",
      "Saving sub-wlsubj095/surf/rh.midthickness.surf.gii.temp89572.white.surf.gii as a surface\n",
      "Saving sub-wlsubj095/surf/rh.midthickness.surf.gii.temp89572.pial.surf.gii as a surface\n",
      "Saving sub-wlsubj095/surf/rh.sphere.reg.surf.gii as a surface\n",
      "Resampling native data to fsaverage space...\n",
      "Data resampling is complete.\n",
      "Execution time: 0 minutes\n",
      "[Step 1.1] Generating mid-thickness surface and curvature data if not available...\n",
      "Mid-thickness surface and curvature data is already available.\n",
      "[Step 1.2] Preparing native surfaces for resampling if not available...\n",
      "Saving sub-wlsubj104/surf/rh.midthickness.surf.gii.temp89754.white.surf.gii as a surface\n",
      "Saving sub-wlsubj104/surf/rh.midthickness.surf.gii.temp89754.pial.surf.gii as a surface\n",
      "Saving sub-wlsubj104/surf/rh.sphere.reg.surf.gii as a surface\n",
      "Resampling native data to fsaverage space...\n",
      "Data resampling is complete.\n",
      "Execution time: 0 minutes\n",
      "[Step 1.1] Generating mid-thickness surface and curvature data if not available...\n",
      "Mid-thickness surface and curvature data is already available.\n",
      "[Step 1.2] Preparing native surfaces for resampling if not available...\n",
      "Saving sub-wlsubj114/surf/rh.midthickness.surf.gii.temp89948.white.surf.gii as a surface\n",
      "Saving sub-wlsubj114/surf/rh.midthickness.surf.gii.temp89948.pial.surf.gii as a surface\n",
      "Saving sub-wlsubj114/surf/rh.sphere.reg.surf.gii as a surface\n",
      "Resampling native data to fsaverage space...\n",
      "Data resampling is complete.\n",
      "Execution time: 0 minutes\n",
      "[Step 1.1] Generating mid-thickness surface and curvature data if not available...\n",
      "Mid-thickness surface and curvature data is already available.\n",
      "[Step 1.2] Preparing native surfaces for resampling if not available...\n",
      "Saving sub-wlsubj115/surf/rh.midthickness.surf.gii.temp90155.white.surf.gii as a surface\n",
      "Saving sub-wlsubj115/surf/rh.midthickness.surf.gii.temp90155.pial.surf.gii as a surface\n",
      "Saving sub-wlsubj115/surf/rh.sphere.reg.surf.gii as a surface\n",
      "Resampling native data to fsaverage space...\n",
      "Data resampling is complete.\n",
      "Execution time: 0 minutes\n",
      "[Step 1.1] Generating mid-thickness surface and curvature data if not available...\n",
      "Mid-thickness surface and curvature data is already available.\n",
      "[Step 1.2] Preparing native surfaces for resampling if not available...\n",
      "Saving sub-wlsubj116/surf/rh.midthickness.surf.gii.temp90346.white.surf.gii as a surface\n",
      "Saving sub-wlsubj116/surf/rh.midthickness.surf.gii.temp90346.pial.surf.gii as a surface\n",
      "Saving sub-wlsubj116/surf/rh.sphere.reg.surf.gii as a surface\n",
      "Resampling native data to fsaverage space...\n",
      "Data resampling is complete.\n",
      "Execution time: 0 minutes\n",
      "[Step 1.1] Generating mid-thickness surface and curvature data if not available...\n",
      "Mid-thickness surface and curvature data is already available.\n",
      "[Step 1.2] Preparing native surfaces for resampling if not available...\n",
      "Saving sub-wlsubj117/surf/rh.midthickness.surf.gii.temp90595.white.surf.gii as a surface\n",
      "Saving sub-wlsubj117/surf/rh.midthickness.surf.gii.temp90595.pial.surf.gii as a surface\n",
      "Saving sub-wlsubj117/surf/rh.sphere.reg.surf.gii as a surface\n",
      "Resampling native data to fsaverage space...\n",
      "Data resampling is complete.\n",
      "Execution time: 0 minutes\n",
      "[Step 1.1] Generating mid-thickness surface and curvature data if not available...\n",
      "Mid-thickness surface and curvature data is already available.\n",
      "[Step 1.2] Preparing native surfaces for resampling if not available...\n",
      "Saving sub-wlsubj118/surf/rh.midthickness.surf.gii.temp90778.white.surf.gii as a surface\n",
      "Saving sub-wlsubj118/surf/rh.midthickness.surf.gii.temp90778.pial.surf.gii as a surface\n",
      "Saving sub-wlsubj118/surf/rh.sphere.reg.surf.gii as a surface\n",
      "Resampling native data to fsaverage space...\n",
      "Data resampling is complete.\n",
      "Execution time: 0 minutes\n",
      "[Step 1.1] Generating mid-thickness surface and curvature data if not available...\n",
      "Mid-thickness surface and curvature data is already available.\n",
      "[Step 1.2] Preparing native surfaces for resampling if not available...\n",
      "Saving sub-wlsubj120/surf/rh.midthickness.surf.gii.temp90972.white.surf.gii as a surface\n",
      "Saving sub-wlsubj120/surf/rh.midthickness.surf.gii.temp90972.pial.surf.gii as a surface\n",
      "Saving sub-wlsubj120/surf/rh.sphere.reg.surf.gii as a surface\n",
      "Resampling native data to fsaverage space...\n",
      "Data resampling is complete.\n",
      "Execution time: 0 minutes\n",
      "[Step 1.1] Generating mid-thickness surface and curvature data if not available...\n",
      "Mid-thickness surface and curvature data is already available.\n",
      "[Step 1.2] Preparing native surfaces for resampling if not available...\n",
      "Saving sub-wlsubj126/surf/rh.midthickness.surf.gii.temp91157.white.surf.gii as a surface\n",
      "Saving sub-wlsubj126/surf/rh.midthickness.surf.gii.temp91157.pial.surf.gii as a surface\n",
      "Saving sub-wlsubj126/surf/rh.sphere.reg.surf.gii as a surface\n",
      "Resampling native data to fsaverage space...\n",
      "Data resampling is complete.\n",
      "Execution time: 0 minutes\n",
      "--------------------------------------------------------------------------------\n",
      "Map: polarAngle\n",
      "--------------------------------------------------------------------------------\n",
      "[Step 2] Retinotopy prediction...\n",
      "Processing...\n",
      "Done!\n",
      "[Step 2.1] Loading the dataset\n",
      "Dataset loaded\n",
      "Time elapsed: 0.3167257010936737 minutes\n",
      "[Step 2.2] Generating predictions with pre-trained models\n",
      "Loading model 1\n",
      "Saving .gii files in: /neurodesktop-storage/nyu_retinotopy_data/freesurfer_white2mid/sub-wlsubj001/deepRetinotopy/\n",
      "Saving .gii files in: /neurodesktop-storage/nyu_retinotopy_data/freesurfer_white2mid/sub-wlsubj006/deepRetinotopy/\n",
      "Saving .gii files in: /neurodesktop-storage/nyu_retinotopy_data/freesurfer_white2mid/sub-wlsubj007/deepRetinotopy/\n",
      "Saving .gii files in: /neurodesktop-storage/nyu_retinotopy_data/freesurfer_white2mid/sub-wlsubj014/deepRetinotopy/\n",
      "Saving .gii files in: /neurodesktop-storage/nyu_retinotopy_data/freesurfer_white2mid/sub-wlsubj019/deepRetinotopy/\n",
      "Saving .gii files in: /neurodesktop-storage/nyu_retinotopy_data/freesurfer_white2mid/sub-wlsubj023/deepRetinotopy/\n",
      "Saving .gii files in: /neurodesktop-storage/nyu_retinotopy_data/freesurfer_white2mid/sub-wlsubj042/deepRetinotopy/\n",
      "Saving .gii files in: /neurodesktop-storage/nyu_retinotopy_data/freesurfer_white2mid/sub-wlsubj045/deepRetinotopy/\n",
      "Saving .gii files in: /neurodesktop-storage/nyu_retinotopy_data/freesurfer_white2mid/sub-wlsubj055/deepRetinotopy/\n",
      "Saving .gii files in: /neurodesktop-storage/nyu_retinotopy_data/freesurfer_white2mid/sub-wlsubj056/deepRetinotopy/\n",
      "Saving .gii files in: /neurodesktop-storage/nyu_retinotopy_data/freesurfer_white2mid/sub-wlsubj057/deepRetinotopy/\n",
      "Saving .gii files in: /neurodesktop-storage/nyu_retinotopy_data/freesurfer_white2mid/sub-wlsubj062/deepRetinotopy/\n",
      "Saving .gii files in: /neurodesktop-storage/nyu_retinotopy_data/freesurfer_white2mid/sub-wlsubj071/deepRetinotopy/\n",
      "Saving .gii files in: /neurodesktop-storage/nyu_retinotopy_data/freesurfer_white2mid/sub-wlsubj076/deepRetinotopy/\n",
      "Saving .gii files in: /neurodesktop-storage/nyu_retinotopy_data/freesurfer_white2mid/sub-wlsubj079/deepRetinotopy/\n",
      "Saving .gii files in: /neurodesktop-storage/nyu_retinotopy_data/freesurfer_white2mid/sub-wlsubj081/deepRetinotopy/\n",
      "Saving .gii files in: /neurodesktop-storage/nyu_retinotopy_data/freesurfer_white2mid/sub-wlsubj083/deepRetinotopy/\n",
      "Saving .gii files in: /neurodesktop-storage/nyu_retinotopy_data/freesurfer_white2mid/sub-wlsubj084/deepRetinotopy/\n",
      "Saving .gii files in: /neurodesktop-storage/nyu_retinotopy_data/freesurfer_white2mid/sub-wlsubj086/deepRetinotopy/\n",
      "Saving .gii files in: /neurodesktop-storage/nyu_retinotopy_data/freesurfer_white2mid/sub-wlsubj088/deepRetinotopy/\n",
      "Saving .gii files in: /neurodesktop-storage/nyu_retinotopy_data/freesurfer_white2mid/sub-wlsubj091/deepRetinotopy/\n",
      "Saving .gii files in: /neurodesktop-storage/nyu_retinotopy_data/freesurfer_white2mid/sub-wlsubj094/deepRetinotopy/\n",
      "Saving .gii files in: /neurodesktop-storage/nyu_retinotopy_data/freesurfer_white2mid/sub-wlsubj095/deepRetinotopy/\n",
      "Saving .gii files in: /neurodesktop-storage/nyu_retinotopy_data/freesurfer_white2mid/sub-wlsubj104/deepRetinotopy/\n",
      "Saving .gii files in: /neurodesktop-storage/nyu_retinotopy_data/freesurfer_white2mid/sub-wlsubj114/deepRetinotopy/\n",
      "Saving .gii files in: /neurodesktop-storage/nyu_retinotopy_data/freesurfer_white2mid/sub-wlsubj115/deepRetinotopy/\n",
      "Saving .gii files in: /neurodesktop-storage/nyu_retinotopy_data/freesurfer_white2mid/sub-wlsubj116/deepRetinotopy/\n",
      "Saving .gii files in: /neurodesktop-storage/nyu_retinotopy_data/freesurfer_white2mid/sub-wlsubj117/deepRetinotopy/\n",
      "Saving .gii files in: /neurodesktop-storage/nyu_retinotopy_data/freesurfer_white2mid/sub-wlsubj118/deepRetinotopy/\n",
      "Saving .gii files in: /neurodesktop-storage/nyu_retinotopy_data/freesurfer_white2mid/sub-wlsubj120/deepRetinotopy/\n",
      "Saving .gii files in: /neurodesktop-storage/nyu_retinotopy_data/freesurfer_white2mid/sub-wlsubj126/deepRetinotopy/\n",
      "Predictions from model 1 were saved\n",
      "Time elapsed: 8.5943559743464 minutes\n",
      "--------------------------------------------------------------------------------\n",
      "[Step 3] Resampling predictions to native space...\n",
      "Model: model\n",
      "polarAngle predictions resampling for rh is done!\n",
      "--------------------------------------------------------------------------------\n",
      "--------------------------------------------------------------------------------\n",
      "Map: eccentricity\n",
      "--------------------------------------------------------------------------------\n",
      "[Step 2] Retinotopy prediction...\n",
      "Processing...\n",
      "Done!\n",
      "[Step 2.1] Loading the dataset\n",
      "Dataset loaded\n",
      "Time elapsed: 0.3043939024209976 minutes\n",
      "[Step 2.2] Generating predictions with pre-trained models\n",
      "Loading model 1\n",
      "Saving .gii files in: /neurodesktop-storage/nyu_retinotopy_data/freesurfer_white2mid/sub-wlsubj001/deepRetinotopy/\n",
      "Saving .gii files in: /neurodesktop-storage/nyu_retinotopy_data/freesurfer_white2mid/sub-wlsubj006/deepRetinotopy/\n",
      "Saving .gii files in: /neurodesktop-storage/nyu_retinotopy_data/freesurfer_white2mid/sub-wlsubj007/deepRetinotopy/\n",
      "Saving .gii files in: /neurodesktop-storage/nyu_retinotopy_data/freesurfer_white2mid/sub-wlsubj014/deepRetinotopy/\n",
      "Saving .gii files in: /neurodesktop-storage/nyu_retinotopy_data/freesurfer_white2mid/sub-wlsubj019/deepRetinotopy/\n",
      "Saving .gii files in: /neurodesktop-storage/nyu_retinotopy_data/freesurfer_white2mid/sub-wlsubj023/deepRetinotopy/\n",
      "Saving .gii files in: /neurodesktop-storage/nyu_retinotopy_data/freesurfer_white2mid/sub-wlsubj042/deepRetinotopy/\n",
      "Saving .gii files in: /neurodesktop-storage/nyu_retinotopy_data/freesurfer_white2mid/sub-wlsubj045/deepRetinotopy/\n",
      "Saving .gii files in: /neurodesktop-storage/nyu_retinotopy_data/freesurfer_white2mid/sub-wlsubj055/deepRetinotopy/\n",
      "Saving .gii files in: /neurodesktop-storage/nyu_retinotopy_data/freesurfer_white2mid/sub-wlsubj056/deepRetinotopy/\n",
      "Saving .gii files in: /neurodesktop-storage/nyu_retinotopy_data/freesurfer_white2mid/sub-wlsubj057/deepRetinotopy/\n",
      "Saving .gii files in: /neurodesktop-storage/nyu_retinotopy_data/freesurfer_white2mid/sub-wlsubj062/deepRetinotopy/\n",
      "Saving .gii files in: /neurodesktop-storage/nyu_retinotopy_data/freesurfer_white2mid/sub-wlsubj071/deepRetinotopy/\n",
      "Saving .gii files in: /neurodesktop-storage/nyu_retinotopy_data/freesurfer_white2mid/sub-wlsubj076/deepRetinotopy/\n",
      "Saving .gii files in: /neurodesktop-storage/nyu_retinotopy_data/freesurfer_white2mid/sub-wlsubj079/deepRetinotopy/\n",
      "Saving .gii files in: /neurodesktop-storage/nyu_retinotopy_data/freesurfer_white2mid/sub-wlsubj081/deepRetinotopy/\n",
      "Saving .gii files in: /neurodesktop-storage/nyu_retinotopy_data/freesurfer_white2mid/sub-wlsubj083/deepRetinotopy/\n",
      "Saving .gii files in: /neurodesktop-storage/nyu_retinotopy_data/freesurfer_white2mid/sub-wlsubj084/deepRetinotopy/\n",
      "Saving .gii files in: /neurodesktop-storage/nyu_retinotopy_data/freesurfer_white2mid/sub-wlsubj086/deepRetinotopy/\n",
      "Saving .gii files in: /neurodesktop-storage/nyu_retinotopy_data/freesurfer_white2mid/sub-wlsubj088/deepRetinotopy/\n",
      "Saving .gii files in: /neurodesktop-storage/nyu_retinotopy_data/freesurfer_white2mid/sub-wlsubj091/deepRetinotopy/\n",
      "Saving .gii files in: /neurodesktop-storage/nyu_retinotopy_data/freesurfer_white2mid/sub-wlsubj094/deepRetinotopy/\n",
      "Saving .gii files in: /neurodesktop-storage/nyu_retinotopy_data/freesurfer_white2mid/sub-wlsubj095/deepRetinotopy/\n",
      "Saving .gii files in: /neurodesktop-storage/nyu_retinotopy_data/freesurfer_white2mid/sub-wlsubj104/deepRetinotopy/\n",
      "Saving .gii files in: /neurodesktop-storage/nyu_retinotopy_data/freesurfer_white2mid/sub-wlsubj114/deepRetinotopy/\n",
      "Saving .gii files in: /neurodesktop-storage/nyu_retinotopy_data/freesurfer_white2mid/sub-wlsubj115/deepRetinotopy/\n",
      "Saving .gii files in: /neurodesktop-storage/nyu_retinotopy_data/freesurfer_white2mid/sub-wlsubj116/deepRetinotopy/\n",
      "Saving .gii files in: /neurodesktop-storage/nyu_retinotopy_data/freesurfer_white2mid/sub-wlsubj117/deepRetinotopy/\n",
      "Saving .gii files in: /neurodesktop-storage/nyu_retinotopy_data/freesurfer_white2mid/sub-wlsubj118/deepRetinotopy/\n",
      "Saving .gii files in: /neurodesktop-storage/nyu_retinotopy_data/freesurfer_white2mid/sub-wlsubj120/deepRetinotopy/\n",
      "Saving .gii files in: /neurodesktop-storage/nyu_retinotopy_data/freesurfer_white2mid/sub-wlsubj126/deepRetinotopy/\n",
      "Predictions from model 1 were saved\n",
      "Time elapsed: 8.513835057616234 minutes\n",
      "--------------------------------------------------------------------------------\n",
      "[Step 3] Resampling predictions to native space...\n",
      "Model: model\n",
      "eccentricity predictions resampling for rh is done!\n",
      "--------------------------------------------------------------------------------\n",
      "All done!\n",
      "Runtime: 2984.617243 seconds\n"
     ]
    }
   ],
   "source": [
    "import time\n",
    "start_time = time.time()\n",
    "!deepRetinotopy -s /neurodesktop-storage/nyu_retinotopy_data/freesurfer_white2mid/ \\\n",
    "                -t /neurodesktop-storage/HCPpipelines/global/templates/standard_mesh_atlases/resample_fsaverage/ \\\n",
    "                -d nyu \\\n",
    "                -m \"polarAngle,eccentricity\"\n",
    "end_time = time.time()\n",
    "print(f\"Runtime: {end_time - start_time:.6f} seconds\")"
   ]
  },
  {
   "cell_type": "code",
   "execution_count": null,
   "id": "03ed1c3c-fdf8-4583-91f6-487e89c7a82b",
   "metadata": {},
   "outputs": [],
   "source": []
  }
 ],
 "metadata": {
  "kernelspec": {
   "display_name": "Python [conda env:base] *",
   "language": "python",
   "name": "conda-base-py"
  },
  "language_info": {
   "codemirror_mode": {
    "name": "ipython",
    "version": 3
   },
   "file_extension": ".py",
   "mimetype": "text/x-python",
   "name": "python",
   "nbconvert_exporter": "python",
   "pygments_lexer": "ipython3",
   "version": "3.12.8"
  }
 },
 "nbformat": 4,
 "nbformat_minor": 5
}
